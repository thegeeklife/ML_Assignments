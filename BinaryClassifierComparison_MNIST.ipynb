{
  "nbformat": 4,
  "nbformat_minor": 0,
  "metadata": {
    "colab": {
      "name": "BinaryClassifierComparison_MNIST.ipynb",
      "provenance": [],
      "toc_visible": true,
      "authorship_tag": "ABX9TyMIbexa1F8bvS+B66EJe+Lk",
      "include_colab_link": true
    },
    "kernelspec": {
      "name": "python3",
      "display_name": "Python 3"
    },
    "accelerator": "GPU"
  },
  "cells": [
    {
      "cell_type": "markdown",
      "metadata": {
        "id": "view-in-github",
        "colab_type": "text"
      },
      "source": [
        "<a href=\"https://colab.research.google.com/github/thegeeklife/ML_Assignments/blob/main/BinaryClassifierComparison_MNIST.ipynb\" target=\"_parent\"><img src=\"https://colab.research.google.com/assets/colab-badge.svg\" alt=\"Open In Colab\"/></a>"
      ]
    },
    {
      "cell_type": "markdown",
      "metadata": {
        "id": "aFa4sk1ZAGlZ"
      },
      "source": [
        "#### Comparison of Binary Classifier performances with given hyperparameters on MNIST 784 dataset\n",
        "\n",
        "```\n",
        "# Subia Ansari\n",
        "```\n",
        "\n"
      ]
    },
    {
      "cell_type": "code",
      "metadata": {
        "id": "Pm7NNqiX4PM6"
      },
      "source": [
        "import sklearn\n",
        "from sklearn.linear_model import SGDClassifier, LogisticRegression\n",
        "from sklearn.svm import LinearSVC\n",
        "from sklearn.model_selection import cross_val_score\n",
        "from sklearn.preprocessing import StandardScaler\n",
        "from sklearn.pipeline import make_pipeline\n",
        "import numpy as np\n",
        "import matplotlib as mpl\n",
        "import matplotlib.pyplot as plt\n",
        "\n",
        "#set the required figure sizes\n",
        "mpl.rc('axes', labelsize=14)\n",
        "mpl.rc('xtick', labelsize=12)\n",
        "mpl.rc('ytick', labelsize=12)"
      ],
      "execution_count": null,
      "outputs": []
    },
    {
      "cell_type": "code",
      "metadata": {
        "id": "UMiJnxQxrnhQ"
      },
      "source": [
        "# to make this notebook's output stable across runs\n",
        "np.random.seed(42)"
      ],
      "execution_count": null,
      "outputs": []
    },
    {
      "cell_type": "code",
      "metadata": {
        "colab": {
          "base_uri": "https://localhost:8080/"
        },
        "id": "wOi19ZVzrpFM",
        "outputId": "e652873f-f12a-4909-a5bf-025b9793ac25"
      },
      "source": [
        "# Import data from sklearn\n",
        "from sklearn.datasets import fetch_openml\n",
        "mnist = fetch_openml('mnist_784', version = 1)\n",
        "#data is stored as a dictionary so we're gonna check the keys\n",
        "mnist.keys()"
      ],
      "execution_count": null,
      "outputs": [
        {
          "output_type": "execute_result",
          "data": {
            "text/plain": [
              "dict_keys(['data', 'target', 'frame', 'feature_names', 'target_names', 'DESCR', 'details', 'categories', 'url'])"
            ]
          },
          "metadata": {
            "tags": []
          },
          "execution_count": 4
        }
      ]
    },
    {
      "cell_type": "code",
      "metadata": {
        "colab": {
          "base_uri": "https://localhost:8080/"
        },
        "id": "tB4ICrJNsY7z",
        "outputId": "9b90376c-ec8c-4c02-9d89-08bbe03678a5"
      },
      "source": [
        "X, y = mnist['data'], mnist['target']\n",
        "print('X shape = ', X.shape, ' Y shape = ', y.shape)"
      ],
      "execution_count": null,
      "outputs": [
        {
          "output_type": "stream",
          "text": [
            "X shape =  (70000, 784)  Y shape =  (70000,)\n"
          ],
          "name": "stdout"
        }
      ]
    },
    {
      "cell_type": "code",
      "metadata": {
        "colab": {
          "base_uri": "https://localhost:8080/",
          "height": 248
        },
        "id": "1a8gcubGtVW1",
        "outputId": "f7685871-fd10-4884-935b-34433343d028"
      },
      "source": [
        "# 70k images (rows), 784 features(cols)\n",
        "\n",
        "#plot a datapoint \n",
        "digit_1 = X[0]\n",
        "digit_image = digit_1.reshape(28,28) #each image is 28x28 pixels\n",
        "plt.imshow(digit_image, cmap = mpl.cm.binary, interpolation=\"nearest\")\n",
        "plt.axis('off')\n",
        "plt.show()"
      ],
      "execution_count": null,
      "outputs": [
        {
          "output_type": "display_data",
          "data": {
            "image/png": "[encoded data removed]",
            "text/plain": [
              "<Figure size 432x288 with 1 Axes>"
            ]
          },
          "metadata": {
            "tags": [],
            "needs_background": "light"
          }
        }
      ]
    },
    {
      "cell_type": "code",
      "metadata": {
        "colab": {
          "base_uri": "https://localhost:8080/",
          "height": 35
        },
        "id": "Hvfn5QbOt554",
        "outputId": "de42f59c-c775-4b62-ab03-cd4b65d0840d"
      },
      "source": [
        "# Let's check the target label\n",
        "y[0]"
      ],
      "execution_count": null,
      "outputs": [
        {
          "output_type": "execute_result",
          "data": {
            "application/vnd.google.colaboratory.intrinsic+json": {
              "type": "string"
            },
            "text/plain": [
              "'5'"
            ]
          },
          "metadata": {
            "tags": []
          },
          "execution_count": 7
        }
      ]
    },
    {
      "cell_type": "code",
      "metadata": {
        "id": "O4IoLYyiuALU"
      },
      "source": [
        "#It's a string so we're going to convert it to int\n",
        "y = y.astype(np.uint8)"
      ],
      "execution_count": null,
      "outputs": []
    },
    {
      "cell_type": "code",
      "metadata": {
        "id": "307B-bIBuGSa"
      },
      "source": [
        "# Creating a test and train set\n",
        "# first 60k images - train, last 10k images - test\n",
        "X_train, X_test, y_train, y_test = X[:60000], X[60000:], y[:60000], y[60000:]"
      ],
      "execution_count": null,
      "outputs": []
    },
    {
      "cell_type": "markdown",
      "metadata": {
        "id": "H4YeEWNCvKT_"
      },
      "source": [
        "## Creating the required labels"
      ]
    },
    {
      "cell_type": "code",
      "metadata": {
        "id": "47154cTsvHTs"
      },
      "source": [
        "#convert y test and y train labels to binary (True for 1, False for not 1)\n",
        "y_train_1 = (y_train == 1)\n",
        "y_test_1 = (y_test == 1)\n",
        "\n",
        "# for 6 vs not 6\n",
        "y_train_6 = (y_train == 6)\n",
        "y_test_6 = (y_test == 6)\n",
        "\n",
        "#for 8 vs not 8\n",
        "y_train_8 = (y_train == 8)\n",
        "y_test_8 = (y_test == 8)"
      ],
      "execution_count": null,
      "outputs": []
    },
    {
      "cell_type": "markdown",
      "metadata": {
        "id": "qFnYG1dilKcP"
      },
      "source": [
        "### Defining one function call to train"
      ]
    },
    {
      "cell_type": "code",
      "metadata": {
        "id": "dqidwF4yjpqf"
      },
      "source": [
        "# Defining a function to reduce code clutter\n",
        "#takes the classifier function as argument along with training set and labels\n",
        "def train_model(classifier, X_train, y_train):\n",
        "  clf = make_pipeline(StandardScaler(), classifier)\n",
        "  clf.fit(X_train, y_train)\n",
        "  val_score = cross_val_score(clf, X_train, y_train, cv=3, scoring='accuracy')\n",
        "  test_score = clf.score(X_test, y_test)\n",
        "  return val_score, test_score"
      ],
      "execution_count": null,
      "outputs": []
    },
    {
      "cell_type": "markdown",
      "metadata": {
        "id": "f29NrcdHjtqh"
      },
      "source": [
        "## Classifier for 1 vs. not 1"
      ]
    },
    {
      "cell_type": "markdown",
      "metadata": {
        "id": "AIXvYF5mj6YT"
      },
      "source": [
        "### SGD Model"
      ]
    },
    {
      "cell_type": "code",
      "metadata": {
        "colab": {
          "base_uri": "https://localhost:8080/"
        },
        "id": "zSiY8p0a4txj",
        "outputId": "12389ef8-c276-4e22-c791-abbb83107342"
      },
      "source": [
        "# Assignment requirement for parameters\n",
        "# random-state = 623, maximum iteration=500, tol=1e-4\n",
        "print('Binary Classifier for 1 vs not 1')\n",
        "print('Accuracy for SGD : ')\n",
        "model, model_score = train_model(SGDClassifier(random_state=623, max_iter = 500, tol = 1e-4), X_train, y_train_1)\n",
        "#sgd_model_1, score1 = sgd(X_train, y_train_1)\n",
        "print('Cross validation: ', model, ' Test set : ', model_score)\n"
      ],
      "execution_count": null,
      "outputs": [
        {
          "output_type": "stream",
          "text": [
            "Binary Classifier for 1 vs not 1\n",
            "Accuracy for SGD : \n",
            "Cross validation:  [0.99035 0.99075 0.99125]  Test set :  0.2065\n"
          ],
          "name": "stdout"
        }
      ]
    },
    {
      "cell_type": "markdown",
      "metadata": {
        "id": "9JFjsfD7lnnQ"
      },
      "source": [
        "* Execution time - 40 seconds."
      ]
    },
    {
      "cell_type": "markdown",
      "metadata": {
        "id": "b_aAFWimj1kL"
      },
      "source": [
        "### Logistic Regression"
      ]
    },
    {
      "cell_type": "code",
      "metadata": {
        "colab": {
          "base_uri": "https://localhost:8080/"
        },
        "id": "RkaE9XQNjzt3",
        "outputId": "c8a64804-d44a-4e7d-81a2-6d7ea3ab110f"
      },
      "source": [
        "#We're going to now check for Logistic Regression\n",
        "print('Accuracy for LogisticRegression')\n",
        "model, model_score = train_model(LogisticRegression(random_state = 623, max_iter = 500, tol = 1e-4), X_train, y_train_1)\n",
        "print('Cross validation: ', model, ' Test set : ', model_score)"
      ],
      "execution_count": null,
      "outputs": [
        {
          "output_type": "stream",
          "text": [
            "Accuracy for LogisticRegression\n",
            "Cross validation:  [0.98975 0.9914  0.99055]  Test set :  0.2085\n"
          ],
          "name": "stdout"
        }
      ]
    },
    {
      "cell_type": "markdown",
      "metadata": {
        "id": "oZ5PlC-DmFs0"
      },
      "source": [
        "* Execution time - 1min 20s"
      ]
    },
    {
      "cell_type": "markdown",
      "metadata": {
        "id": "stNN9Iv4d8Z3"
      },
      "source": [
        "### Linear SVC"
      ]
    },
    {
      "cell_type": "code",
      "metadata": {
        "colab": {
          "base_uri": "https://localhost:8080/"
        },
        "id": "9aTzIv-8L3EH",
        "outputId": "21ece021-7a73-4910-8526-d773219ffb30"
      },
      "source": [
        "# We're going to LinearSVC\n",
        "print('Accuracy for Linear SVC')\n",
        "model, model_score = train_model(LinearSVC(random_state = 623, tol = 1e-4), X_train, y_train_1)\n",
        "print('Cross validation: ', model, ' Test set : ', model_score)"
      ],
      "execution_count": null,
      "outputs": [
        {
          "output_type": "stream",
          "text": [
            "Accuracy for Linear SVC\n"
          ],
          "name": "stdout"
        },
        {
          "output_type": "stream",
          "text": [
            "/usr/local/lib/python3.7/dist-packages/sklearn/svm/_base.py:947: ConvergenceWarning: Liblinear failed to converge, increase the number of iterations.\n",
            "  \"the number of iterations.\", ConvergenceWarning)\n",
            "/usr/local/lib/python3.7/dist-packages/sklearn/svm/_base.py:947: ConvergenceWarning: Liblinear failed to converge, increase the number of iterations.\n",
            "  \"the number of iterations.\", ConvergenceWarning)\n",
            "/usr/local/lib/python3.7/dist-packages/sklearn/svm/_base.py:947: ConvergenceWarning: Liblinear failed to converge, increase the number of iterations.\n",
            "  \"the number of iterations.\", ConvergenceWarning)\n"
          ],
          "name": "stderr"
        },
        {
          "output_type": "stream",
          "text": [
            "Cross validation:  [0.9866  0.98915 0.9882 ]  Test set :  0.2088\n"
          ],
          "name": "stdout"
        },
        {
          "output_type": "stream",
          "text": [
            "/usr/local/lib/python3.7/dist-packages/sklearn/svm/_base.py:947: ConvergenceWarning: Liblinear failed to converge, increase the number of iterations.\n",
            "  \"the number of iterations.\", ConvergenceWarning)\n"
          ],
          "name": "stderr"
        }
      ]
    },
    {
      "cell_type": "markdown",
      "metadata": {
        "id": "e7FhRd0Aoado"
      },
      "source": [
        "* Execution time - 1m"
      ]
    },
    {
      "cell_type": "markdown",
      "metadata": {
        "id": "P0K8LHy1j_wq"
      },
      "source": [
        "## Classifier for 6 vs not 6"
      ]
    },
    {
      "cell_type": "markdown",
      "metadata": {
        "id": "hp2T4PjdkC-P"
      },
      "source": [
        "### SGD Model"
      ]
    },
    {
      "cell_type": "code",
      "metadata": {
        "colab": {
          "base_uri": "https://localhost:8080/"
        },
        "id": "qiS1Sz_8EVbT",
        "outputId": "c86a24e6-907c-4d76-b588-0a8eb6f84d87"
      },
      "source": [
        "print('Binary Classifier for 6 vs not 6')\n",
        "print('Accuracy for SGD : ')\n",
        "model, model_score = train_model(SGDClassifier(random_state=623, max_iter = 500, tol = 1e-4), X_train, y_train_6)\n",
        "print('Cross validation: ', model, ' Test set : ', model_score)"
      ],
      "execution_count": null,
      "outputs": [
        {
          "output_type": "stream",
          "text": [
            "Binary Classifier for 6 vs not 6\n",
            "Accuracy for SGD : \n"
          ],
          "name": "stdout"
        },
        {
          "output_type": "stream",
          "text": [
            "/usr/local/lib/python3.7/dist-packages/sklearn/linear_model/_stochastic_gradient.py:557: ConvergenceWarning: Maximum number of iteration reached before convergence. Consider increasing max_iter to improve the fit.\n",
            "  ConvergenceWarning)\n",
            "/usr/local/lib/python3.7/dist-packages/sklearn/linear_model/_stochastic_gradient.py:557: ConvergenceWarning: Maximum number of iteration reached before convergence. Consider increasing max_iter to improve the fit.\n",
            "  ConvergenceWarning)\n",
            "/usr/local/lib/python3.7/dist-packages/sklearn/linear_model/_stochastic_gradient.py:557: ConvergenceWarning: Maximum number of iteration reached before convergence. Consider increasing max_iter to improve the fit.\n",
            "  ConvergenceWarning)\n"
          ],
          "name": "stderr"
        },
        {
          "output_type": "stream",
          "text": [
            "Cross validation:  [0.9839  0.98395 0.98485]  Test set :  0.0972\n"
          ],
          "name": "stdout"
        },
        {
          "output_type": "stream",
          "text": [
            "/usr/local/lib/python3.7/dist-packages/sklearn/linear_model/_stochastic_gradient.py:557: ConvergenceWarning: Maximum number of iteration reached before convergence. Consider increasing max_iter to improve the fit.\n",
            "  ConvergenceWarning)\n"
          ],
          "name": "stderr"
        }
      ]
    },
    {
      "cell_type": "markdown",
      "metadata": {
        "id": "hfpoA87YpwOv"
      },
      "source": [
        "* Execution time - 40s"
      ]
    },
    {
      "cell_type": "markdown",
      "metadata": {
        "id": "hbvs29jZkd5w"
      },
      "source": [
        "### Logistic Regression"
      ]
    },
    {
      "cell_type": "code",
      "metadata": {
        "colab": {
          "base_uri": "https://localhost:8080/"
        },
        "id": "GGHnNYs_kZMa",
        "outputId": "6fa817fc-e003-4d83-97e2-c4328aaec470"
      },
      "source": [
        "#We're going to now check for Logistic Regression\n",
        "print('Accuracy for LogisticRegression')\n",
        "model, model_score = train_model(LogisticRegression(random_state = 623, max_iter = 500, tol = 1e-4), X_train, y_train_6)\n",
        "print('Cross validation: ', model, ' Test set : ', model_score)"
      ],
      "execution_count": null,
      "outputs": [
        {
          "output_type": "stream",
          "text": [
            "Accuracy for LogisticRegression\n"
          ],
          "name": "stdout"
        },
        {
          "output_type": "stream",
          "text": [
            "/usr/local/lib/python3.7/dist-packages/sklearn/linear_model/_logistic.py:940: ConvergenceWarning: lbfgs failed to converge (status=1):\n",
            "STOP: TOTAL NO. of ITERATIONS REACHED LIMIT.\n",
            "\n",
            "Increase the number of iterations (max_iter) or scale the data as shown in:\n",
            "    https://scikit-learn.org/stable/modules/preprocessing.html\n",
            "Please also refer to the documentation for alternative solver options:\n",
            "    https://scikit-learn.org/stable/modules/linear_model.html#logistic-regression\n",
            "  extra_warning_msg=_LOGISTIC_SOLVER_CONVERGENCE_MSG)\n",
            "/usr/local/lib/python3.7/dist-packages/sklearn/linear_model/_logistic.py:940: ConvergenceWarning: lbfgs failed to converge (status=1):\n",
            "STOP: TOTAL NO. of ITERATIONS REACHED LIMIT.\n",
            "\n",
            "Increase the number of iterations (max_iter) or scale the data as shown in:\n",
            "    https://scikit-learn.org/stable/modules/preprocessing.html\n",
            "Please also refer to the documentation for alternative solver options:\n",
            "    https://scikit-learn.org/stable/modules/linear_model.html#logistic-regression\n",
            "  extra_warning_msg=_LOGISTIC_SOLVER_CONVERGENCE_MSG)\n"
          ],
          "name": "stderr"
        },
        {
          "output_type": "stream",
          "text": [
            "Cross validation:  [0.9858  0.98325 0.9857 ]  Test set :  0.0966\n"
          ],
          "name": "stdout"
        }
      ]
    },
    {
      "cell_type": "markdown",
      "metadata": {
        "id": "6IONp_jYqH5Z"
      },
      "source": [
        "Since this also reached convergence at 500 iterations, I'm going to increase the number of iterations\n",
        "\n",
        "* Execution time - 1m 40s"
      ]
    },
    {
      "cell_type": "code",
      "metadata": {
        "colab": {
          "base_uri": "https://localhost:8080/"
        },
        "id": "u__IOhXbp_y6",
        "outputId": "bfc67b1f-8e8a-4dfe-a406-618b250e1857"
      },
      "source": [
        "#We're going to now check for Logistic Regression\n",
        "print('Accuracy for LogisticRegression')\n",
        "model, model_score = train_model(LogisticRegression(random_state = 623, max_iter = 2000, tol = 1e-4), X_train, y_train_6)\n",
        "print('Cross validation: ', model, ' Test set : ', model_score)"
      ],
      "execution_count": null,
      "outputs": [
        {
          "output_type": "stream",
          "text": [
            "Accuracy for LogisticRegression\n",
            "Cross validation:  [0.9858  0.98325 0.9857 ]  Test set :  0.0966\n"
          ],
          "name": "stdout"
        }
      ]
    },
    {
      "cell_type": "markdown",
      "metadata": {
        "id": "bIkb9qV8qll1"
      },
      "source": [
        "* Execution Time 1m 40s"
      ]
    },
    {
      "cell_type": "markdown",
      "metadata": {
        "id": "F-7TWHHskgfJ"
      },
      "source": [
        "### Linear SVC"
      ]
    },
    {
      "cell_type": "code",
      "metadata": {
        "colab": {
          "base_uri": "https://localhost:8080/"
        },
        "id": "GLeuMcLokaMc",
        "outputId": "f4e5485e-156b-4777-e99f-77302b925954"
      },
      "source": [
        "# We're going to LinearSVC\n",
        "print('Accuracy for Linear SVC')\n",
        "model, model_score = train_model(LinearSVC(random_state = 623, max_iter = 500, tol = 1e-4), X_train, y_train_6)\n",
        "print('Cross validation: ', model, ' Test set : ', model_score)"
      ],
      "execution_count": null,
      "outputs": [
        {
          "output_type": "stream",
          "text": [
            "Accuracy for Linear SVC\n"
          ],
          "name": "stdout"
        },
        {
          "output_type": "stream",
          "text": [
            "/usr/local/lib/python3.7/dist-packages/sklearn/svm/_base.py:947: ConvergenceWarning: Liblinear failed to converge, increase the number of iterations.\n",
            "  \"the number of iterations.\", ConvergenceWarning)\n",
            "/usr/local/lib/python3.7/dist-packages/sklearn/svm/_base.py:947: ConvergenceWarning: Liblinear failed to converge, increase the number of iterations.\n",
            "  \"the number of iterations.\", ConvergenceWarning)\n",
            "/usr/local/lib/python3.7/dist-packages/sklearn/svm/_base.py:947: ConvergenceWarning: Liblinear failed to converge, increase the number of iterations.\n",
            "  \"the number of iterations.\", ConvergenceWarning)\n"
          ],
          "name": "stderr"
        },
        {
          "output_type": "stream",
          "text": [
            "Cross validation:  [0.9821  0.98015 0.98225]  Test set :  0.0974\n"
          ],
          "name": "stdout"
        },
        {
          "output_type": "stream",
          "text": [
            "/usr/local/lib/python3.7/dist-packages/sklearn/svm/_base.py:947: ConvergenceWarning: Liblinear failed to converge, increase the number of iterations.\n",
            "  \"the number of iterations.\", ConvergenceWarning)\n"
          ],
          "name": "stderr"
        }
      ]
    },
    {
      "cell_type": "markdown",
      "metadata": {
        "id": "R9aQKO-XrArL"
      },
      "source": [
        "* Execution time - 1min"
      ]
    },
    {
      "cell_type": "code",
      "metadata": {
        "colab": {
          "base_uri": "https://localhost:8080/"
        },
        "id": "IRLzC1CTq6Kq",
        "outputId": "80bc36eb-3f2f-4cef-d4ba-4c9d163c5083"
      },
      "source": [
        "# We're going to LinearSVC\n",
        "print('Accuracy for Linear SVC')\n",
        "model, model_score = train_model(LinearSVC(random_state = 623, max_iter = 2000, tol = 1e-4), X_train, y_train_6)\n",
        "print('Cross validation: ', model, ' Test set : ', model_score)"
      ],
      "execution_count": null,
      "outputs": [
        {
          "output_type": "stream",
          "text": [
            "Accuracy for Linear SVC\n"
          ],
          "name": "stdout"
        },
        {
          "output_type": "stream",
          "text": [
            "/usr/local/lib/python3.7/dist-packages/sklearn/svm/_base.py:947: ConvergenceWarning: Liblinear failed to converge, increase the number of iterations.\n",
            "  \"the number of iterations.\", ConvergenceWarning)\n",
            "/usr/local/lib/python3.7/dist-packages/sklearn/svm/_base.py:947: ConvergenceWarning: Liblinear failed to converge, increase the number of iterations.\n",
            "  \"the number of iterations.\", ConvergenceWarning)\n",
            "/usr/local/lib/python3.7/dist-packages/sklearn/svm/_base.py:947: ConvergenceWarning: Liblinear failed to converge, increase the number of iterations.\n",
            "  \"the number of iterations.\", ConvergenceWarning)\n"
          ],
          "name": "stderr"
        },
        {
          "output_type": "stream",
          "text": [
            "Cross validation:  [0.98485 0.98235 0.98425]  Test set :  0.0968\n"
          ],
          "name": "stdout"
        },
        {
          "output_type": "stream",
          "text": [
            "/usr/local/lib/python3.7/dist-packages/sklearn/svm/_base.py:947: ConvergenceWarning: Liblinear failed to converge, increase the number of iterations.\n",
            "  \"the number of iterations.\", ConvergenceWarning)\n"
          ],
          "name": "stderr"
        }
      ]
    },
    {
      "cell_type": "markdown",
      "metadata": {
        "id": "IBEcFrZkrE8p"
      },
      "source": [
        "* Execution time - 3m"
      ]
    },
    {
      "cell_type": "markdown",
      "metadata": {
        "id": "JQM_b8R3kjO0"
      },
      "source": [
        "## Classification for 8 vs not 8"
      ]
    },
    {
      "cell_type": "markdown",
      "metadata": {
        "id": "Xeh-6tSdklwb"
      },
      "source": [
        "### SGD Model"
      ]
    },
    {
      "cell_type": "code",
      "metadata": {
        "colab": {
          "base_uri": "https://localhost:8080/"
        },
        "id": "aCfCjepXIRWG",
        "outputId": "dd1e831e-a0f4-467f-c532-62d203a20852"
      },
      "source": [
        "print('Binary Classifier for 8 vs not 8')\n",
        "\n",
        "print('Accuracy for SGD : ')\n",
        "model, model_score = train_model(SGDClassifier(random_state=623, max_iter = 500, tol = 1e-4), X_train, y_train_8)\n",
        "print('Cross validation: ', model, ' Test set : ', model_score)"
      ],
      "execution_count": null,
      "outputs": [
        {
          "output_type": "stream",
          "text": [
            "Binary Classifier for 8 vs not 8\n",
            "Accuracy for SGD : \n"
          ],
          "name": "stdout"
        },
        {
          "output_type": "stream",
          "text": [
            "/usr/local/lib/python3.7/dist-packages/sklearn/linear_model/_stochastic_gradient.py:557: ConvergenceWarning: Maximum number of iteration reached before convergence. Consider increasing max_iter to improve the fit.\n",
            "  ConvergenceWarning)\n",
            "/usr/local/lib/python3.7/dist-packages/sklearn/linear_model/_stochastic_gradient.py:557: ConvergenceWarning: Maximum number of iteration reached before convergence. Consider increasing max_iter to improve the fit.\n",
            "  ConvergenceWarning)\n",
            "/usr/local/lib/python3.7/dist-packages/sklearn/linear_model/_stochastic_gradient.py:557: ConvergenceWarning: Maximum number of iteration reached before convergence. Consider increasing max_iter to improve the fit.\n",
            "  ConvergenceWarning)\n"
          ],
          "name": "stderr"
        },
        {
          "output_type": "stream",
          "text": [
            "Cross validation:  [0.95265 0.95455 0.957  ]  Test set :  0.1024\n"
          ],
          "name": "stdout"
        },
        {
          "output_type": "stream",
          "text": [
            "/usr/local/lib/python3.7/dist-packages/sklearn/linear_model/_stochastic_gradient.py:557: ConvergenceWarning: Maximum number of iteration reached before convergence. Consider increasing max_iter to improve the fit.\n",
            "  ConvergenceWarning)\n"
          ],
          "name": "stderr"
        }
      ]
    },
    {
      "cell_type": "markdown",
      "metadata": {
        "id": "KmyseQwwsVq-"
      },
      "source": [
        "* Execution time - 2m 5s"
      ]
    },
    {
      "cell_type": "markdown",
      "metadata": {
        "id": "ycjiA6BEkpTq"
      },
      "source": [
        "### Logistic Regression"
      ]
    },
    {
      "cell_type": "code",
      "metadata": {
        "colab": {
          "base_uri": "https://localhost:8080/"
        },
        "id": "_WcnBAYfkrU4",
        "outputId": "0dde0988-833b-4897-db92-c018871c0711"
      },
      "source": [
        "#We're going to now check for Logistic Regression\n",
        "print('Accuracy for LogisticRegression')\n",
        "model, model_score = train_model(LogisticRegression(random_state = 623, max_iter = 500, tol = 1e-4), X_train, y_train_8)\n",
        "print('Cross validation: ', model, ' Test set : ', model_score)\n"
      ],
      "execution_count": null,
      "outputs": [
        {
          "output_type": "stream",
          "text": [
            "Accuracy for LogisticRegression\n",
            "Cross validation:  [0.957   0.95505 0.95985]  Test set :  0.0991\n"
          ],
          "name": "stdout"
        }
      ]
    },
    {
      "cell_type": "markdown",
      "metadata": {
        "id": "h9mCemWesu5F"
      },
      "source": [
        "* Execution time - 1m 35s"
      ]
    },
    {
      "cell_type": "markdown",
      "metadata": {
        "id": "LvXRCSH3ktUm"
      },
      "source": [
        "### Linear SVC"
      ]
    },
    {
      "cell_type": "code",
      "metadata": {
        "colab": {
          "base_uri": "https://localhost:8080/"
        },
        "id": "v6l0z8c8kwNE",
        "outputId": "87fbcae4-49fc-4eeb-c0b3-ecf09364149d"
      },
      "source": [
        "# We're going to LinearSVC\n",
        "print('Accuracy for Linear SVC')\n",
        "model, model_score = train_model(LinearSVC(random_state = 623, tol = 1e-4), X_train, y_train_8)\n",
        "print('Cross validation: ', model, ' Test set : ', model_score)"
      ],
      "execution_count": null,
      "outputs": [
        {
          "output_type": "stream",
          "text": [
            "Accuracy for Linear SVC\n"
          ],
          "name": "stdout"
        },
        {
          "output_type": "stream",
          "text": [
            "/usr/local/lib/python3.7/dist-packages/sklearn/svm/_base.py:947: ConvergenceWarning: Liblinear failed to converge, increase the number of iterations.\n",
            "  \"the number of iterations.\", ConvergenceWarning)\n",
            "/usr/local/lib/python3.7/dist-packages/sklearn/svm/_base.py:947: ConvergenceWarning: Liblinear failed to converge, increase the number of iterations.\n",
            "  \"the number of iterations.\", ConvergenceWarning)\n",
            "/usr/local/lib/python3.7/dist-packages/sklearn/svm/_base.py:947: ConvergenceWarning: Liblinear failed to converge, increase the number of iterations.\n",
            "  \"the number of iterations.\", ConvergenceWarning)\n"
          ],
          "name": "stderr"
        },
        {
          "output_type": "stream",
          "text": [
            "Cross validation:  [0.95395 0.95055 0.95725]  Test set :  0.0991\n"
          ],
          "name": "stdout"
        },
        {
          "output_type": "stream",
          "text": [
            "/usr/local/lib/python3.7/dist-packages/sklearn/svm/_base.py:947: ConvergenceWarning: Liblinear failed to converge, increase the number of iterations.\n",
            "  \"the number of iterations.\", ConvergenceWarning)\n"
          ],
          "name": "stderr"
        }
      ]
    },
    {
      "cell_type": "markdown",
      "metadata": {
        "id": "xDAB2H29sxFc"
      },
      "source": [
        "* Execution time - 4m 4s"
      ]
    },
    {
      "cell_type": "code",
      "metadata": {
        "id": "rUHhQN7KtwFs"
      },
      "source": [
        ""
      ],
      "execution_count": null,
      "outputs": []
    }
  ]
}
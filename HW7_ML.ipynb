{
  "nbformat": 4,
  "nbformat_minor": 0,
  "metadata": {
    "kernelspec": {
      "display_name": "Python 3",
      "language": "python",
      "name": "python3"
    },
    "language_info": {
      "codemirror_mode": {
        "name": "ipython",
        "version": 3
      },
      "file_extension": ".py",
      "mimetype": "text/x-python",
      "name": "python",
      "nbconvert_exporter": "python",
      "pygments_lexer": "ipython3",
      "version": "3.7.10"
    },
    "nav_menu": {
      "height": "264px",
      "width": "369px"
    },
    "toc": {
      "navigate_menu": true,
      "number_sections": true,
      "sideBar": true,
      "threshold": 6,
      "toc_cell": false,
      "toc_section_display": "block",
      "toc_window_display": false
    },
    "colab": {
      "name": "HW7_ML.ipynb",
      "provenance": [],
      "collapsed_sections": [],
      "toc_visible": true,
      "include_colab_link": true
    }
  },
  "cells": [
    {
      "cell_type": "markdown",
      "metadata": {
        "id": "view-in-github",
        "colab_type": "text"
      },
      "source": [
        "<a href=\"https://colab.research.google.com/github/thegeeklife/ML_Assignments/blob/main/HW7_ML.ipynb\" target=\"_parent\"><img src=\"https://colab.research.google.com/assets/colab-badge.svg\" alt=\"Open In Colab\"/></a>"
      ]
    },
    {
      "cell_type": "markdown",
      "metadata": {
        "id": "UdU-3xodZ3lO"
      },
      "source": [
        "# Homework 7 \n",
        "### Subia Ansari"
      ]
    },
    {
      "cell_type": "markdown",
      "metadata": {
        "id": "jvJnW6fbZ3lV"
      },
      "source": [
        "# Setup"
      ]
    },
    {
      "cell_type": "code",
      "metadata": {
        "id": "JEJ6NcT9Z3lW"
      },
      "source": [
        "# Python ≥3.5 is required\n",
        "import sys\n",
        "assert sys.version_info >= (3, 5)\n",
        "\n",
        "# Scikit-Learn ≥0.20 is required\n",
        "import sklearn\n",
        "assert sklearn.__version__ >= \"0.20\"\n",
        "\n",
        "# TensorFlow ≥2.0-preview is required\n",
        "import tensorflow as tf\n",
        "assert tf.__version__ >= \"2.0\"\n",
        "\n",
        "# Common imports\n",
        "import numpy as np\n",
        "import os\n",
        "\n",
        "# to make this notebook's output stable across runs\n",
        "np.random.seed(623)\n",
        "\n",
        "# To plot pretty figures\n",
        "%matplotlib inline\n",
        "import matplotlib as mpl\n",
        "import matplotlib.pyplot as plt\n",
        "mpl.rc('axes', labelsize=14)\n",
        "mpl.rc('xtick', labelsize=12)\n",
        "mpl.rc('ytick', labelsize=12)\n",
        "\n",
        "\n",
        "# Ignore useless warnings (see SciPy issue #5998)\n",
        "import warnings\n",
        "warnings.filterwarnings(action=\"ignore\", message=\"^internal gelsd\")"
      ],
      "execution_count": 1,
      "outputs": []
    },
    {
      "cell_type": "markdown",
      "metadata": {
        "id": "vvONpluLZ3lX"
      },
      "source": [
        "# Activation functions"
      ]
    },
    {
      "cell_type": "code",
      "metadata": {
        "id": "OQnJIRcLZ3lX"
      },
      "source": [
        "def sigmoid(z):\n",
        "    return 1 / (1 + np.exp(-z))\n",
        "\n",
        "def relu(z):\n",
        "    return np.maximum(0, z)\n",
        "\n",
        "def derivative(f, z, eps=0.000001):\n",
        "    return (f(z + eps) - f(z - eps))/(2 * eps)"
      ],
      "execution_count": 2,
      "outputs": []
    },
    {
      "cell_type": "markdown",
      "metadata": {
        "id": "7zBn8IEYZ3la"
      },
      "source": [
        "# Building an Image Classifier"
      ]
    },
    {
      "cell_type": "markdown",
      "metadata": {
        "id": "Wl0p_ICDZ3la"
      },
      "source": [
        "First let's import TensorFlow and Keras."
      ]
    },
    {
      "cell_type": "code",
      "metadata": {
        "id": "kaRd_yPdZ3la"
      },
      "source": [
        "import tensorflow as tf\n",
        "from tensorflow import keras"
      ],
      "execution_count": 3,
      "outputs": []
    },
    {
      "cell_type": "markdown",
      "metadata": {
        "id": "yMrG_kXbZ3lb"
      },
      "source": [
        "Let's start by loading the fashion MNIST dataset. Keras has a number of functions to load popular datasets in `keras.datasets`. The dataset is already split for you between a training set and a test set, but it can be useful to split the training set further to have a validation set:"
      ]
    },
    {
      "cell_type": "code",
      "metadata": {
        "colab": {
          "base_uri": "https://localhost:8080/"
        },
        "id": "aaui71J5Z3lb",
        "outputId": "5b6f9db3-6825-4fc1-ee12-c190708d7217"
      },
      "source": [
        "fashion_mnist = keras.datasets.fashion_mnist\n",
        "(X_train_full, y_train_full), (X_test, y_test) = fashion_mnist.load_data()"
      ],
      "execution_count": 4,
      "outputs": [
        {
          "output_type": "stream",
          "text": [
            "Downloading data from https://storage.googleapis.com/tensorflow/tf-keras-datasets/train-labels-idx1-ubyte.gz\n",
            "32768/29515 [=================================] - 0s 0us/step\n",
            "Downloading data from https://storage.googleapis.com/tensorflow/tf-keras-datasets/train-images-idx3-ubyte.gz\n",
            "26427392/26421880 [==============================] - 0s 0us/step\n",
            "Downloading data from https://storage.googleapis.com/tensorflow/tf-keras-datasets/t10k-labels-idx1-ubyte.gz\n",
            "8192/5148 [===============================================] - 0s 0us/step\n",
            "Downloading data from https://storage.googleapis.com/tensorflow/tf-keras-datasets/t10k-images-idx3-ubyte.gz\n",
            "4423680/4422102 [==============================] - 0s 0us/step\n"
          ],
          "name": "stdout"
        }
      ]
    },
    {
      "cell_type": "markdown",
      "metadata": {
        "id": "9pk9mpDLZ3lb"
      },
      "source": [
        "The training set contains 60,000 grayscale images, each 28x28 pixels:"
      ]
    },
    {
      "cell_type": "code",
      "metadata": {
        "colab": {
          "base_uri": "https://localhost:8080/"
        },
        "id": "kW-n4Hc0Z3lc",
        "outputId": "e00d2dcb-44fe-49dd-ecb8-94f66369f20f"
      },
      "source": [
        "X_train_full.shape"
      ],
      "execution_count": 5,
      "outputs": [
        {
          "output_type": "execute_result",
          "data": {
            "text/plain": [
              "(60000, 28, 28)"
            ]
          },
          "metadata": {
            "tags": []
          },
          "execution_count": 5
        }
      ]
    },
    {
      "cell_type": "markdown",
      "metadata": {
        "id": "mToVDt6GZ3lc"
      },
      "source": [
        "Each pixel intensity is represented as a byte (0 to 255):"
      ]
    },
    {
      "cell_type": "code",
      "metadata": {
        "colab": {
          "base_uri": "https://localhost:8080/"
        },
        "id": "cIUtK-yLZ3lc",
        "outputId": "c32e4dfa-6a11-4570-a30b-0571ad805e0b"
      },
      "source": [
        "X_train_full.dtype"
      ],
      "execution_count": 6,
      "outputs": [
        {
          "output_type": "execute_result",
          "data": {
            "text/plain": [
              "dtype('uint8')"
            ]
          },
          "metadata": {
            "tags": []
          },
          "execution_count": 6
        }
      ]
    },
    {
      "cell_type": "markdown",
      "metadata": {
        "id": "awm_cYo_Z3lc"
      },
      "source": [
        "Let's split the full training set into a validation set and a (smaller) training set. We also scale the pixel intensities down to the 0-1 range and convert them to floats, by dividing by 255."
      ]
    },
    {
      "cell_type": "code",
      "metadata": {
        "id": "SJm0UiqtZ3lc"
      },
      "source": [
        "X_valid, X_train = X_train_full[:5000] / 255., X_train_full[5000:] / 255.\n",
        "y_valid, y_train = y_train_full[:5000], y_train_full[5000:]\n",
        "X_test = X_test / 255."
      ],
      "execution_count": 7,
      "outputs": []
    },
    {
      "cell_type": "markdown",
      "metadata": {
        "id": "wWh44U62Z3ld"
      },
      "source": [
        "You can plot an image using Matplotlib's `imshow()` function, with a `'binary'`\n",
        " color map:"
      ]
    },
    {
      "cell_type": "code",
      "metadata": {
        "colab": {
          "base_uri": "https://localhost:8080/",
          "height": 248
        },
        "id": "rR1nmB4rZ3ld",
        "outputId": "464a0203-99cd-4c24-da13-5393a3387a4b"
      },
      "source": [
        "plt.imshow(X_train[0], cmap=\"binary\")\n",
        "plt.axis('off')\n",
        "plt.show()"
      ],
      "execution_count": 8,
      "outputs": [
        {
          "output_type": "display_data",
          "data": {
            "image/png": "[encoded data removed]",
            "text/plain": [
              "<Figure size 432x288 with 1 Axes>"
            ]
          },
          "metadata": {
            "tags": [],
            "needs_background": "light"
          }
        }
      ]
    },
    {
      "cell_type": "markdown",
      "metadata": {
        "id": "m5W988SRZ3ld"
      },
      "source": [
        "The labels are the class IDs (represented as uint8), from 0 to 9:"
      ]
    },
    {
      "cell_type": "code",
      "metadata": {
        "colab": {
          "base_uri": "https://localhost:8080/"
        },
        "id": "fOWZV_ocZ3ld",
        "outputId": "4632a0f4-76a5-4e0b-ca51-c3c4a6980ee7"
      },
      "source": [
        "y_train"
      ],
      "execution_count": 9,
      "outputs": [
        {
          "output_type": "execute_result",
          "data": {
            "text/plain": [
              "array([4, 0, 7, ..., 3, 0, 5], dtype=uint8)"
            ]
          },
          "metadata": {
            "tags": []
          },
          "execution_count": 9
        }
      ]
    },
    {
      "cell_type": "markdown",
      "metadata": {
        "id": "4mh1BvpYZ3le"
      },
      "source": [
        "Here are the corresponding class names:"
      ]
    },
    {
      "cell_type": "code",
      "metadata": {
        "id": "CBN9eMYKZ3le"
      },
      "source": [
        "class_names = [\"T-shirt/top\", \"Trouser\", \"Pullover\", \"Dress\", \"Coat\",\n",
        "               \"Sandal\", \"Shirt\", \"Sneaker\", \"Bag\", \"Ankle boot\"]"
      ],
      "execution_count": 10,
      "outputs": []
    },
    {
      "cell_type": "markdown",
      "metadata": {
        "id": "y2tiCPg7Z3le"
      },
      "source": [
        "So the first image in the training set is a coat:"
      ]
    },
    {
      "cell_type": "code",
      "metadata": {
        "colab": {
          "base_uri": "https://localhost:8080/",
          "height": 35
        },
        "id": "oIbnvCdqZ3le",
        "outputId": "fb005274-25bb-44f0-d958-3051569fd7f8"
      },
      "source": [
        "class_names[y_train[0]]"
      ],
      "execution_count": 11,
      "outputs": [
        {
          "output_type": "execute_result",
          "data": {
            "application/vnd.google.colaboratory.intrinsic+json": {
              "type": "string"
            },
            "text/plain": [
              "'Coat'"
            ]
          },
          "metadata": {
            "tags": []
          },
          "execution_count": 11
        }
      ]
    },
    {
      "cell_type": "markdown",
      "metadata": {
        "id": "hIzkx8YJZ3le"
      },
      "source": [
        "The validation set contains 5,000 images, and the test set contains 10,000 images:"
      ]
    },
    {
      "cell_type": "code",
      "metadata": {
        "colab": {
          "base_uri": "https://localhost:8080/"
        },
        "id": "Q6eG-PytZ3le",
        "outputId": "4209c95c-b1c6-4ebc-ca57-2ecee0107e7d"
      },
      "source": [
        "X_valid.shape"
      ],
      "execution_count": 12,
      "outputs": [
        {
          "output_type": "execute_result",
          "data": {
            "text/plain": [
              "(5000, 28, 28)"
            ]
          },
          "metadata": {
            "tags": []
          },
          "execution_count": 12
        }
      ]
    },
    {
      "cell_type": "code",
      "metadata": {
        "colab": {
          "base_uri": "https://localhost:8080/"
        },
        "id": "f91VjcMFZ3lf",
        "outputId": "cbdc1ed5-6e1f-4412-901d-2036c2915e78"
      },
      "source": [
        "X_test.shape"
      ],
      "execution_count": 13,
      "outputs": [
        {
          "output_type": "execute_result",
          "data": {
            "text/plain": [
              "(10000, 28, 28)"
            ]
          },
          "metadata": {
            "tags": []
          },
          "execution_count": 13
        }
      ]
    },
    {
      "cell_type": "markdown",
      "metadata": {
        "id": "DHamRKFVZ3lf"
      },
      "source": [
        "Let's take a look at a sample of the images in the dataset:"
      ]
    },
    {
      "cell_type": "code",
      "metadata": {
        "colab": {
          "base_uri": "https://localhost:8080/",
          "height": 308
        },
        "id": "aomOVze2Z3lf",
        "outputId": "c579a933-9a1c-467b-cbab-0cf71e1a99da"
      },
      "source": [
        "n_rows = 4\n",
        "n_cols = 10\n",
        "plt.figure(figsize=(n_cols * 1.2, n_rows * 1.2))\n",
        "for row in range(n_rows):\n",
        "    for col in range(n_cols):\n",
        "        index = n_cols * row + col\n",
        "        plt.subplot(n_rows, n_cols, index + 1)\n",
        "        plt.imshow(X_train[index], cmap=\"binary\", interpolation=\"nearest\")\n",
        "        plt.axis('off')\n",
        "        plt.title(class_names[y_train[index]], fontsize=12)\n",
        "plt.subplots_adjust(wspace=0.2, hspace=0.5)\n",
        "#save_fig('fashion_mnist_diagram', tight_layout=False)\n",
        "plt.show()"
      ],
      "execution_count": 14,
      "outputs": [
        {
          "output_type": "display_data",
          "data": {
            "image/png": "[encoded data removed]",
            "text/plain": [
              "<Figure size 864x345.6 with 40 Axes>"
            ]
          },
          "metadata": {
            "tags": [],
            "needs_background": "light"
          }
        }
      ]
    },
    {
      "cell_type": "markdown",
      "metadata": {
        "id": "7eKdHnm6DRYg"
      },
      "source": [
        "# Common Functions"
      ]
    },
    {
      "cell_type": "code",
      "metadata": {
        "id": "-u_EnfF3B7qJ"
      },
      "source": [
        "import pandas as pd \n",
        "\n",
        "def display_model(model):\n",
        "  print(model.summary())\n",
        "  keras.utils.plot_model(model, \"my_mnist_model.png\", show_shapes=True)\n",
        "\n",
        "\n",
        "def model_train_evaluate(model):\n",
        "  hidden1 = model.layers[1]\n",
        "  #print(\"Hidden layer: \",hidden1.name)\n",
        "  weights, biases = hidden1.get_weights()\n",
        "  #print(\"Weights: \",weights,\"  biases: \", biases)\n",
        "  model.compile(loss=\"sparse_categorical_crossentropy\",\n",
        "              optimizer=\"sgd\",\n",
        "              metrics=[\"accuracy\"])\n",
        "  history = model.fit(X_train, y_train, epochs=30,\n",
        "                    validation_data=(X_valid, y_valid))\n",
        "  \n",
        "  pd.DataFrame(history.history).plot(figsize=(8, 5))\n",
        "  plt.grid(True)  \n",
        "  plt.gca().set_ylim(0, 1)\n",
        "  #save_fig(\"keras_learning_curves_graph\")\n",
        "  plt.show()\n",
        "  model.evaluate(X_test, y_test)"
      ],
      "execution_count": 17,
      "outputs": []
    },
    {
      "cell_type": "markdown",
      "metadata": {
        "id": "JqNx8hUJv6sY"
      },
      "source": [
        "# Model 1 : The first default model\n",
        "\n",
        "2 layers with 'Relu' activation and units: 300, 100, 10 in each layer"
      ]
    },
    {
      "cell_type": "code",
      "metadata": {
        "id": "6yO-HbWTEqSQ"
      },
      "source": [
        "np.random.seed(623)\n",
        "tf.random.set_seed(623)"
      ],
      "execution_count": 56,
      "outputs": []
    },
    {
      "cell_type": "code",
      "metadata": {
        "id": "oglYPIjkZ3lf"
      },
      "source": [
        "model = keras.models.Sequential()\n",
        "model.add(keras.layers.Flatten(input_shape=[28, 28]))\n",
        "model.add(keras.layers.Dense(300, activation=\"relu\"))\n",
        "model.add(keras.layers.Dense(100, activation=\"relu\"))\n",
        "model.add(keras.layers.Dense(10, activation=\"softmax\"))\n",
        "\n"
      ],
      "execution_count": 16,
      "outputs": []
    },
    {
      "cell_type": "code",
      "metadata": {
        "colab": {
          "base_uri": "https://localhost:8080/"
        },
        "id": "ymTYkXWSZ3lg",
        "outputId": "af75fb3d-d9c5-4c14-db0b-f54891e73396"
      },
      "source": [
        "display_model(model)"
      ],
      "execution_count": 57,
      "outputs": [
        {
          "output_type": "stream",
          "text": [
            "Model: \"sequential\"\n",
            "_________________________________________________________________\n",
            "Layer (type)                 Output Shape              Param #   \n",
            "=================================================================\n",
            "flatten (Flatten)            (None, 784)               0         \n",
            "_________________________________________________________________\n",
            "dense (Dense)                (None, 300)               235500    \n",
            "_________________________________________________________________\n",
            "dense_1 (Dense)              (None, 100)               30100     \n",
            "_________________________________________________________________\n",
            "dense_2 (Dense)              (None, 10)                1010      \n",
            "=================================================================\n",
            "Total params: 266,610\n",
            "Trainable params: 266,610\n",
            "Non-trainable params: 0\n",
            "_________________________________________________________________\n",
            "None\n"
          ],
          "name": "stdout"
        }
      ]
    },
    {
      "cell_type": "code",
      "metadata": {
        "colab": {
          "base_uri": "https://localhost:8080/",
          "height": 1000
        },
        "id": "cD7GRSwuZ3lg",
        "outputId": "85a302ea-85bd-4ca7-bcb7-af6d6b3d3cbf"
      },
      "source": [
        "model_train_evaluate(model)"
      ],
      "execution_count": 58,
      "outputs": [
        {
          "output_type": "stream",
          "text": [
            "Hidden layer:  dense\n",
            "Weights:  [[-0.01384548 -0.0250012  -0.02452028 ... -0.06337698 -0.05598773\n",
            "  -0.05677184]\n",
            " [ 0.02866425 -0.02819074  0.05186923 ...  0.04102793  0.0250009\n",
            "   0.02032746]\n",
            " [-0.00910276 -0.00252632 -0.0692094  ... -0.01484704  0.04485239\n",
            "   0.01138088]\n",
            " ...\n",
            " [ 0.05550484  0.04162674 -0.00757756 ...  0.06579117 -0.05567639\n",
            "  -0.0559999 ]\n",
            " [ 0.04072996 -0.05197743  0.00049014 ...  0.06818182 -0.0646909\n",
            "   0.00032752]\n",
            " [ 0.03763833 -0.02659738  0.03700991 ...  0.03650448 -0.06101772\n",
            "   0.04291554]]   biases:  [ 1.49201661e-01 -1.12582836e-02 -2.02385965e-03  1.38618220e-02\n",
            "  7.43071288e-02  1.49449483e-01  4.05635498e-02 -3.29283997e-02\n",
            "  4.11080047e-02  2.66744401e-02  1.37680501e-01 -1.65731143e-02\n",
            "  1.15389414e-01  1.43630713e-01  7.26189613e-02  2.22802479e-02\n",
            "  5.59331961e-02  7.22124651e-02 -4.74118590e-02  9.81998746e-04\n",
            "  9.32232942e-03  1.01339743e-01  2.40047108e-02  1.19626567e-01\n",
            "  9.37287975e-03  1.84420347e-02  3.43834162e-02  3.28577831e-02\n",
            " -2.05312073e-02 -2.87785893e-03  1.73263494e-02 -2.22424064e-02\n",
            "  1.22691151e-02  7.25140423e-02 -4.77554016e-02  4.67542782e-02\n",
            "  6.26656339e-02  3.60793509e-02  1.95636332e-01 -6.96406513e-02\n",
            "  7.39014102e-03  8.50523647e-04  1.76121473e-01  6.80000260e-02\n",
            " -9.50153247e-02  2.50013079e-03  1.25550538e-01  5.42878956e-02\n",
            " -6.31232858e-02  2.28711162e-02  1.02415122e-01  2.81106159e-02\n",
            "  2.13581044e-02  8.16124771e-03  1.70376571e-03  8.25804658e-03\n",
            " -5.05062081e-02  6.13277592e-03 -2.96121873e-02  4.82684076e-02\n",
            "  1.02813691e-01  2.35009678e-02  9.23570767e-02  2.14180220e-02\n",
            " -2.20507663e-02  3.42485569e-02  7.30480477e-02  1.30813718e-01\n",
            "  1.77979022e-02 -2.70436686e-02  8.96453410e-02 -2.34923251e-02\n",
            "  1.46549777e-04  6.45994321e-02 -9.93374214e-02  4.02240679e-02\n",
            "  5.90012241e-05  7.81443492e-02  3.99501156e-03  1.52965531e-01\n",
            "  5.39649799e-02  5.22694997e-02  9.20367986e-02 -2.18485817e-02\n",
            "  3.05069033e-02 -3.20089869e-02  1.42047822e-01 -2.35900953e-02\n",
            "  5.80803901e-02  1.37159303e-01  3.35494950e-02  1.04080908e-01\n",
            "  9.20190290e-02 -5.38164712e-02 -3.98117863e-02  1.58377495e-02\n",
            "  4.11316492e-02  1.67884603e-01 -2.96827615e-03 -3.21452133e-02\n",
            "  2.62418184e-02  3.87042053e-02 -9.08193067e-02  1.65077541e-02\n",
            " -6.96698017e-03  1.42184459e-02  7.32345507e-02 -4.48875278e-02\n",
            " -1.65227074e-02 -8.80103111e-02 -6.00218587e-03 -4.02166732e-02\n",
            "  1.92807987e-02  9.11396891e-02 -2.22336799e-02  1.82532687e-02\n",
            " -1.25071323e-02 -1.48607446e-02  1.16907842e-01  1.03019841e-01\n",
            " -4.51906258e-03  1.31964851e-02  8.69878605e-02 -6.22653821e-03\n",
            "  3.20280939e-02 -4.76885447e-03  2.03690007e-02  2.13839412e-01\n",
            "  2.39357576e-02 -7.27257226e-03  1.17237680e-01 -1.65577177e-02\n",
            "  2.79361922e-02 -2.27304343e-02  6.58223554e-02  8.29905178e-03\n",
            "  1.41816698e-02  9.75392908e-02  1.52859241e-01 -4.17171679e-02\n",
            " -3.73036936e-02 -2.56644394e-02  1.15395710e-01  1.52948722e-01\n",
            "  2.14990407e-01 -6.70396462e-02 -1.20499376e-02  8.81613195e-02\n",
            " -9.00002196e-02  6.78665489e-02  3.31390053e-02 -1.32307485e-02\n",
            "  6.64238781e-02 -7.92837143e-02  1.07071981e-01  1.60693433e-02\n",
            " -2.03606132e-02  1.72139123e-01 -7.78371887e-03  2.63726749e-02\n",
            " -7.38965534e-03  6.73355237e-02  9.77081805e-02  3.36322337e-02\n",
            "  8.59986618e-02 -5.32543287e-03 -2.17531100e-02 -1.05202058e-02\n",
            "  5.11973388e-02  4.18067537e-02  7.11674020e-02 -9.46324971e-03\n",
            "  4.45158184e-02  7.45851249e-02  3.86375822e-02  1.69170588e-01\n",
            "  8.82606283e-02  4.20050621e-02 -1.99281704e-02 -7.63580278e-02\n",
            "  5.54053187e-02  9.04930606e-02 -2.16797907e-02  3.55508365e-02\n",
            " -1.66284665e-02  1.12604737e-01 -1.04027905e-01  1.94831386e-01\n",
            "  7.54418895e-02  4.14481573e-02 -5.78449592e-02 -5.47101423e-02\n",
            "  1.57357037e-01  1.48815736e-02  4.62528504e-03  2.30310485e-03\n",
            "  5.58687141e-03  4.92173061e-02  8.35731030e-02  9.19202343e-02\n",
            "  5.79869887e-03  1.35118082e-01 -1.32535072e-03  3.34983841e-02\n",
            "  7.59546384e-02 -5.75546548e-03  6.09752871e-02  3.05257179e-02\n",
            " -2.20721588e-03  2.47096736e-02 -5.73922470e-02 -8.45450237e-02\n",
            " -5.82304932e-02 -1.70614943e-02 -4.80934884e-03 -1.96623313e-03\n",
            "  7.15421066e-02  7.29106693e-03 -3.22319428e-03  3.22063304e-02\n",
            "  6.93082958e-02 -5.42569831e-02 -1.20421927e-02  1.11505210e-01\n",
            "  5.06118424e-02 -1.13907851e-01  2.76277587e-02  1.50295377e-01\n",
            "  1.08848922e-02  1.38079703e-01  4.64923568e-02  7.43376687e-02\n",
            "  3.82591747e-02 -2.84418557e-03 -4.86132205e-02 -6.32870430e-03\n",
            "  2.68160831e-02 -1.59397088e-02  5.54025844e-02  2.31734440e-02\n",
            "  7.61929676e-02  8.07224438e-02  1.26901090e-01 -4.41226624e-02\n",
            " -1.82123948e-02  4.02772874e-02  5.65007329e-02  2.44977530e-02\n",
            "  6.83360128e-03  1.74872912e-02  1.04764506e-01 -9.23410058e-02\n",
            "  9.53818113e-02  8.84141698e-02  3.73568200e-02 -1.16740202e-03\n",
            " -3.25025804e-03  1.40879110e-01  6.96384953e-03 -1.94983147e-02\n",
            "  5.23482822e-02  1.01164468e-01  3.61420475e-02  1.33805051e-01\n",
            "  4.38780710e-02  1.17993943e-01 -4.92211606e-04  9.50988196e-03\n",
            "  4.21239622e-02  1.55448183e-01  6.73837364e-02 -3.19340415e-02\n",
            "  5.84668200e-03 -1.21673131e-02  6.21035136e-02  9.84704345e-02\n",
            "  8.58187559e-04  1.14260383e-01  1.37202874e-01  5.30808512e-03\n",
            "  1.14753090e-01 -4.10213415e-03  7.16644078e-02 -3.88452932e-02\n",
            " -7.60133192e-02  2.30514795e-01  5.28139323e-02  6.55035824e-02\n",
            "  7.92086720e-02  5.00831380e-02  1.42925680e-01  6.86713010e-02\n",
            "  1.23861566e-01  1.34497836e-01 -3.89868878e-02  1.13288529e-01\n",
            "  9.71204191e-02  5.71444817e-02  4.57704589e-02  8.70573241e-03]\n",
            "Epoch 1/30\n",
            "1719/1719 [==============================] - 6s 3ms/step - loss: 0.2233 - accuracy: 0.9205 - val_loss: 0.2907 - val_accuracy: 0.8964\n",
            "Epoch 2/30\n",
            "1719/1719 [==============================] - 5s 3ms/step - loss: 0.2154 - accuracy: 0.9224 - val_loss: 0.2904 - val_accuracy: 0.8944\n",
            "Epoch 3/30\n",
            "1719/1719 [==============================] - 5s 3ms/step - loss: 0.2140 - accuracy: 0.9230 - val_loss: 0.3047 - val_accuracy: 0.8912\n",
            "Epoch 4/30\n",
            "1719/1719 [==============================] - 5s 3ms/step - loss: 0.2139 - accuracy: 0.9242 - val_loss: 0.2989 - val_accuracy: 0.8954\n",
            "Epoch 5/30\n",
            "1719/1719 [==============================] - 5s 3ms/step - loss: 0.2032 - accuracy: 0.9274 - val_loss: 0.3005 - val_accuracy: 0.8940\n",
            "Epoch 6/30\n",
            "1719/1719 [==============================] - 5s 3ms/step - loss: 0.2022 - accuracy: 0.9294 - val_loss: 0.3228 - val_accuracy: 0.8850\n",
            "Epoch 7/30\n",
            "1719/1719 [==============================] - 5s 3ms/step - loss: 0.2005 - accuracy: 0.9282 - val_loss: 0.2924 - val_accuracy: 0.8930\n",
            "Epoch 8/30\n",
            "1719/1719 [==============================] - 5s 3ms/step - loss: 0.1952 - accuracy: 0.9304 - val_loss: 0.3165 - val_accuracy: 0.8884\n",
            "Epoch 9/30\n",
            "1719/1719 [==============================] - 5s 3ms/step - loss: 0.1950 - accuracy: 0.9309 - val_loss: 0.3139 - val_accuracy: 0.8884\n",
            "Epoch 10/30\n",
            "1719/1719 [==============================] - 5s 3ms/step - loss: 0.1902 - accuracy: 0.9326 - val_loss: 0.3109 - val_accuracy: 0.8884\n",
            "Epoch 11/30\n",
            "1719/1719 [==============================] - 5s 3ms/step - loss: 0.1872 - accuracy: 0.9322 - val_loss: 0.3116 - val_accuracy: 0.8926\n",
            "Epoch 12/30\n",
            "1719/1719 [==============================] - 5s 3ms/step - loss: 0.1834 - accuracy: 0.9356 - val_loss: 0.3005 - val_accuracy: 0.8980\n",
            "Epoch 13/30\n",
            "1719/1719 [==============================] - 5s 3ms/step - loss: 0.1769 - accuracy: 0.9376 - val_loss: 0.2990 - val_accuracy: 0.8942\n",
            "Epoch 14/30\n",
            "1719/1719 [==============================] - 5s 3ms/step - loss: 0.1779 - accuracy: 0.9364 - val_loss: 0.3178 - val_accuracy: 0.8922\n",
            "Epoch 15/30\n",
            "1719/1719 [==============================] - 5s 3ms/step - loss: 0.1756 - accuracy: 0.9388 - val_loss: 0.2951 - val_accuracy: 0.8950\n",
            "Epoch 16/30\n",
            "1719/1719 [==============================] - 5s 3ms/step - loss: 0.1713 - accuracy: 0.9392 - val_loss: 0.3158 - val_accuracy: 0.8888\n",
            "Epoch 17/30\n",
            "1719/1719 [==============================] - 5s 3ms/step - loss: 0.1708 - accuracy: 0.9398 - val_loss: 0.2940 - val_accuracy: 0.8954\n",
            "Epoch 18/30\n",
            "1719/1719 [==============================] - 5s 3ms/step - loss: 0.1663 - accuracy: 0.9411 - val_loss: 0.3105 - val_accuracy: 0.8924\n",
            "Epoch 19/30\n",
            "1719/1719 [==============================] - 5s 3ms/step - loss: 0.1672 - accuracy: 0.9405 - val_loss: 0.2985 - val_accuracy: 0.8994\n",
            "Epoch 20/30\n",
            "1719/1719 [==============================] - 5s 3ms/step - loss: 0.1652 - accuracy: 0.9402 - val_loss: 0.2936 - val_accuracy: 0.8968\n",
            "Epoch 21/30\n",
            "1719/1719 [==============================] - 5s 3ms/step - loss: 0.1575 - accuracy: 0.9444 - val_loss: 0.3210 - val_accuracy: 0.8926\n",
            "Epoch 22/30\n",
            "1719/1719 [==============================] - 5s 3ms/step - loss: 0.1591 - accuracy: 0.9428 - val_loss: 0.3259 - val_accuracy: 0.8900\n",
            "Epoch 23/30\n",
            "1719/1719 [==============================] - 5s 3ms/step - loss: 0.1552 - accuracy: 0.9456 - val_loss: 0.3220 - val_accuracy: 0.8908\n",
            "Epoch 24/30\n",
            "1719/1719 [==============================] - 5s 3ms/step - loss: 0.1548 - accuracy: 0.9452 - val_loss: 0.2992 - val_accuracy: 0.8962\n",
            "Epoch 25/30\n",
            "1719/1719 [==============================] - 5s 3ms/step - loss: 0.1493 - accuracy: 0.9474 - val_loss: 0.3002 - val_accuracy: 0.8990\n",
            "Epoch 26/30\n",
            "1719/1719 [==============================] - 5s 3ms/step - loss: 0.1505 - accuracy: 0.9470 - val_loss: 0.3026 - val_accuracy: 0.9004\n",
            "Epoch 27/30\n",
            "1719/1719 [==============================] - 5s 3ms/step - loss: 0.1436 - accuracy: 0.9503 - val_loss: 0.3112 - val_accuracy: 0.8970\n",
            "Epoch 28/30\n",
            "1719/1719 [==============================] - 5s 3ms/step - loss: 0.1456 - accuracy: 0.9483 - val_loss: 0.3010 - val_accuracy: 0.9008\n",
            "Epoch 29/30\n",
            "1719/1719 [==============================] - 5s 3ms/step - loss: 0.1420 - accuracy: 0.9498 - val_loss: 0.2995 - val_accuracy: 0.9044\n",
            "Epoch 30/30\n",
            "1719/1719 [==============================] - 5s 3ms/step - loss: 0.1384 - accuracy: 0.9519 - val_loss: 0.3113 - val_accuracy: 0.8974\n"
          ],
          "name": "stdout"
        },
        {
          "output_type": "display_data",
          "data": {
            "image/png": "[encoded data removed]",
            "text/plain": [
              "<Figure size 576x360 with 1 Axes>"
            ]
          },
          "metadata": {
            "tags": [],
            "needs_background": "light"
          }
        },
        {
          "output_type": "stream",
          "text": [
            "313/313 [==============================] - 1s 2ms/step - loss: 0.3553 - accuracy: 0.8851\n"
          ],
          "name": "stdout"
        }
      ]
    },
    {
      "cell_type": "markdown",
      "metadata": {
        "id": "p41-QXQIZ3lg"
      },
      "source": [
        "**Warning**: the following 2 cells do not work yet due to [TensorFlow issue 24622](https://github.com/tensorflow/tensorflow/issues/24622) (you are using a preview version of TensorFlow, hence there are still a few issues).\n",
        "You can work around this issue by applying [PR 24626](https://github.com/tensorflow/tensorflow/pull/24625/files) to your copy of `tensorflow/python/keras/utils/vis_utils.py`."
      ]
    },
    {
      "cell_type": "markdown",
      "metadata": {
        "id": "GwkwKDM-wWlU"
      },
      "source": [
        "# Model 2\n",
        "\n",
        "2 layers with 'Relu' and units 500, 200 and 10 in the layers respectively"
      ]
    },
    {
      "cell_type": "code",
      "metadata": {
        "id": "X9kz_uBsm1BS"
      },
      "source": [
        "model_2 = keras.models.Sequential()\n",
        "model_2.add(keras.layers.Flatten(input_shape=[28, 28]))\n",
        "model_2.add(keras.layers.Dense(500, activation=\"relu\"))\n",
        "model_2.add(keras.layers.Dense(200, activation=\"relu\"))\n",
        "model_2.add(keras.layers.Dense(10, activation=\"sigmoid\"))"
      ],
      "execution_count": 65,
      "outputs": []
    },
    {
      "cell_type": "code",
      "metadata": {
        "colab": {
          "base_uri": "https://localhost:8080/"
        },
        "id": "gfpMGan3nITT",
        "outputId": "c4239656-a309-49a3-ecb0-392562254c1a"
      },
      "source": [
        "display_model(model_2)"
      ],
      "execution_count": 66,
      "outputs": [
        {
          "output_type": "stream",
          "text": [
            "Model: \"sequential_11\"\n",
            "_________________________________________________________________\n",
            "Layer (type)                 Output Shape              Param #   \n",
            "=================================================================\n",
            "flatten_11 (Flatten)         (None, 784)               0         \n",
            "_________________________________________________________________\n",
            "dense_54 (Dense)             (None, 500)               392500    \n",
            "_________________________________________________________________\n",
            "dense_55 (Dense)             (None, 200)               100200    \n",
            "_________________________________________________________________\n",
            "dense_56 (Dense)             (None, 10)                2010      \n",
            "=================================================================\n",
            "Total params: 494,710\n",
            "Trainable params: 494,710\n",
            "Non-trainable params: 0\n",
            "_________________________________________________________________\n",
            "None\n"
          ],
          "name": "stdout"
        }
      ]
    },
    {
      "cell_type": "code",
      "metadata": {
        "colab": {
          "base_uri": "https://localhost:8080/",
          "height": 1000
        },
        "id": "A9LXJ3Hro5Yn",
        "outputId": "ff65e66f-2fcc-481f-e2da-f9fba9515c90"
      },
      "source": [
        "model_train_evaluate(model_2)"
      ],
      "execution_count": 67,
      "outputs": [
        {
          "output_type": "stream",
          "text": [
            "Hidden layer:  dense_54\n",
            "Weights:  [[-0.05423449  0.0041114  -0.00679646 ... -0.02575376  0.03716694\n",
            "  -0.0335729 ]\n",
            " [-0.0173666   0.01807562 -0.00912027 ...  0.04526751  0.06474078\n",
            "  -0.02786964]\n",
            " [ 0.03250488  0.00742275 -0.01647461 ...  0.02090743  0.0554803\n",
            "  -0.03246703]\n",
            " ...\n",
            " [-0.04243451  0.04957107 -0.04466772 ... -0.05568491 -0.02843205\n",
            "   0.02573107]\n",
            " [ 0.03300337 -0.04387422  0.05483546 ... -0.05467356  0.05939781\n",
            "   0.02839683]\n",
            " [ 0.04906595  0.05966832  0.01148383 ...  0.06417134 -0.02905406\n",
            "  -0.05207765]]   biases:  [0. 0. 0. 0. 0. 0. 0. 0. 0. 0. 0. 0. 0. 0. 0. 0. 0. 0. 0. 0. 0. 0. 0. 0.\n",
            " 0. 0. 0. 0. 0. 0. 0. 0. 0. 0. 0. 0. 0. 0. 0. 0. 0. 0. 0. 0. 0. 0. 0. 0.\n",
            " 0. 0. 0. 0. 0. 0. 0. 0. 0. 0. 0. 0. 0. 0. 0. 0. 0. 0. 0. 0. 0. 0. 0. 0.\n",
            " 0. 0. 0. 0. 0. 0. 0. 0. 0. 0. 0. 0. 0. 0. 0. 0. 0. 0. 0. 0. 0. 0. 0. 0.\n",
            " 0. 0. 0. 0. 0. 0. 0. 0. 0. 0. 0. 0. 0. 0. 0. 0. 0. 0. 0. 0. 0. 0. 0. 0.\n",
            " 0. 0. 0. 0. 0. 0. 0. 0. 0. 0. 0. 0. 0. 0. 0. 0. 0. 0. 0. 0. 0. 0. 0. 0.\n",
            " 0. 0. 0. 0. 0. 0. 0. 0. 0. 0. 0. 0. 0. 0. 0. 0. 0. 0. 0. 0. 0. 0. 0. 0.\n",
            " 0. 0. 0. 0. 0. 0. 0. 0. 0. 0. 0. 0. 0. 0. 0. 0. 0. 0. 0. 0. 0. 0. 0. 0.\n",
            " 0. 0. 0. 0. 0. 0. 0. 0. 0. 0. 0. 0. 0. 0. 0. 0. 0. 0. 0. 0. 0. 0. 0. 0.\n",
            " 0. 0. 0. 0. 0. 0. 0. 0. 0. 0. 0. 0. 0. 0. 0. 0. 0. 0. 0. 0. 0. 0. 0. 0.\n",
            " 0. 0. 0. 0. 0. 0. 0. 0. 0. 0. 0. 0. 0. 0. 0. 0. 0. 0. 0. 0. 0. 0. 0. 0.\n",
            " 0. 0. 0. 0. 0. 0. 0. 0. 0. 0. 0. 0. 0. 0. 0. 0. 0. 0. 0. 0. 0. 0. 0. 0.\n",
            " 0. 0. 0. 0. 0. 0. 0. 0. 0. 0. 0. 0. 0. 0. 0. 0. 0. 0. 0. 0. 0. 0. 0. 0.\n",
            " 0. 0. 0. 0. 0. 0. 0. 0. 0. 0. 0. 0. 0. 0. 0. 0. 0. 0. 0. 0. 0. 0. 0. 0.\n",
            " 0. 0. 0. 0. 0. 0. 0. 0. 0. 0. 0. 0. 0. 0. 0. 0. 0. 0. 0. 0. 0. 0. 0. 0.\n",
            " 0. 0. 0. 0. 0. 0. 0. 0. 0. 0. 0. 0. 0. 0. 0. 0. 0. 0. 0. 0. 0. 0. 0. 0.\n",
            " 0. 0. 0. 0. 0. 0. 0. 0. 0. 0. 0. 0. 0. 0. 0. 0. 0. 0. 0. 0. 0. 0. 0. 0.\n",
            " 0. 0. 0. 0. 0. 0. 0. 0. 0. 0. 0. 0. 0. 0. 0. 0. 0. 0. 0. 0. 0. 0. 0. 0.\n",
            " 0. 0. 0. 0. 0. 0. 0. 0. 0. 0. 0. 0. 0. 0. 0. 0. 0. 0. 0. 0. 0. 0. 0. 0.\n",
            " 0. 0. 0. 0. 0. 0. 0. 0. 0. 0. 0. 0. 0. 0. 0. 0. 0. 0. 0. 0. 0. 0. 0. 0.\n",
            " 0. 0. 0. 0. 0. 0. 0. 0. 0. 0. 0. 0. 0. 0. 0. 0. 0. 0. 0. 0.]\n",
            "Epoch 1/30\n",
            "1719/1719 [==============================] - 9s 5ms/step - loss: 0.9579 - accuracy: 0.6987 - val_loss: 0.5054 - val_accuracy: 0.8314\n",
            "Epoch 2/30\n",
            "1719/1719 [==============================] - 9s 5ms/step - loss: 0.4951 - accuracy: 0.8269 - val_loss: 0.4274 - val_accuracy: 0.8556\n",
            "Epoch 3/30\n",
            "1719/1719 [==============================] - 8s 5ms/step - loss: 0.4443 - accuracy: 0.8465 - val_loss: 0.4025 - val_accuracy: 0.8666\n",
            "Epoch 4/30\n",
            "1719/1719 [==============================] - 8s 5ms/step - loss: 0.4168 - accuracy: 0.8541 - val_loss: 0.3925 - val_accuracy: 0.8664\n",
            "Epoch 5/30\n",
            "1719/1719 [==============================] - 8s 5ms/step - loss: 0.3871 - accuracy: 0.8649 - val_loss: 0.3873 - val_accuracy: 0.8674\n",
            "Epoch 6/30\n",
            "1719/1719 [==============================] - 8s 4ms/step - loss: 0.3738 - accuracy: 0.8675 - val_loss: 0.3757 - val_accuracy: 0.8700\n",
            "Epoch 7/30\n",
            "1719/1719 [==============================] - 8s 4ms/step - loss: 0.3594 - accuracy: 0.8703 - val_loss: 0.3629 - val_accuracy: 0.8768\n",
            "Epoch 8/30\n",
            "1719/1719 [==============================] - 8s 5ms/step - loss: 0.3461 - accuracy: 0.8776 - val_loss: 0.3771 - val_accuracy: 0.8668\n",
            "Epoch 9/30\n",
            "1719/1719 [==============================] - 8s 5ms/step - loss: 0.3390 - accuracy: 0.8808 - val_loss: 0.3595 - val_accuracy: 0.8734\n",
            "Epoch 10/30\n",
            "1719/1719 [==============================] - 8s 5ms/step - loss: 0.3275 - accuracy: 0.8832 - val_loss: 0.3437 - val_accuracy: 0.8764\n",
            "Epoch 11/30\n",
            "1719/1719 [==============================] - 8s 5ms/step - loss: 0.3169 - accuracy: 0.8841 - val_loss: 0.3673 - val_accuracy: 0.8710\n",
            "Epoch 12/30\n",
            "1719/1719 [==============================] - 8s 5ms/step - loss: 0.3055 - accuracy: 0.8905 - val_loss: 0.3371 - val_accuracy: 0.8850\n",
            "Epoch 13/30\n",
            "1719/1719 [==============================] - 8s 5ms/step - loss: 0.2965 - accuracy: 0.8936 - val_loss: 0.3306 - val_accuracy: 0.8818\n",
            "Epoch 14/30\n",
            "1719/1719 [==============================] - 8s 5ms/step - loss: 0.2904 - accuracy: 0.8951 - val_loss: 0.3340 - val_accuracy: 0.8800\n",
            "Epoch 15/30\n",
            "1719/1719 [==============================] - 8s 4ms/step - loss: 0.2854 - accuracy: 0.8990 - val_loss: 0.3219 - val_accuracy: 0.8882\n",
            "Epoch 16/30\n",
            "1719/1719 [==============================] - 8s 4ms/step - loss: 0.2775 - accuracy: 0.9013 - val_loss: 0.3271 - val_accuracy: 0.8842\n",
            "Epoch 17/30\n",
            "1719/1719 [==============================] - 8s 5ms/step - loss: 0.2736 - accuracy: 0.9035 - val_loss: 0.3113 - val_accuracy: 0.8898\n",
            "Epoch 18/30\n",
            "1719/1719 [==============================] - 9s 5ms/step - loss: 0.2645 - accuracy: 0.9053 - val_loss: 0.3156 - val_accuracy: 0.8868\n",
            "Epoch 19/30\n",
            "1719/1719 [==============================] - 9s 5ms/step - loss: 0.2635 - accuracy: 0.9063 - val_loss: 0.3448 - val_accuracy: 0.8768\n",
            "Epoch 20/30\n",
            "1719/1719 [==============================] - 8s 5ms/step - loss: 0.2620 - accuracy: 0.9055 - val_loss: 0.3035 - val_accuracy: 0.8922\n",
            "Epoch 21/30\n",
            "1719/1719 [==============================] - 8s 5ms/step - loss: 0.2523 - accuracy: 0.9077 - val_loss: 0.3332 - val_accuracy: 0.8842\n",
            "Epoch 22/30\n",
            "1719/1719 [==============================] - 8s 5ms/step - loss: 0.2495 - accuracy: 0.9103 - val_loss: 0.3065 - val_accuracy: 0.8904\n",
            "Epoch 23/30\n",
            "1719/1719 [==============================] - 8s 5ms/step - loss: 0.2440 - accuracy: 0.9126 - val_loss: 0.3136 - val_accuracy: 0.8886\n",
            "Epoch 24/30\n",
            "1719/1719 [==============================] - 9s 5ms/step - loss: 0.2393 - accuracy: 0.9136 - val_loss: 0.2910 - val_accuracy: 0.8980\n",
            "Epoch 25/30\n",
            "1719/1719 [==============================] - 8s 5ms/step - loss: 0.2317 - accuracy: 0.9168 - val_loss: 0.3090 - val_accuracy: 0.8908\n",
            "Epoch 26/30\n",
            "1719/1719 [==============================] - 9s 5ms/step - loss: 0.2322 - accuracy: 0.9174 - val_loss: 0.2919 - val_accuracy: 0.8976\n",
            "Epoch 27/30\n",
            "1719/1719 [==============================] - 8s 5ms/step - loss: 0.2224 - accuracy: 0.9204 - val_loss: 0.3031 - val_accuracy: 0.8920\n",
            "Epoch 28/30\n",
            "1719/1719 [==============================] - 8s 5ms/step - loss: 0.2246 - accuracy: 0.9183 - val_loss: 0.3017 - val_accuracy: 0.8974\n",
            "Epoch 29/30\n",
            "1719/1719 [==============================] - 8s 5ms/step - loss: 0.2181 - accuracy: 0.9219 - val_loss: 0.2959 - val_accuracy: 0.8970\n",
            "Epoch 30/30\n",
            "1719/1719 [==============================] - 8s 5ms/step - loss: 0.2120 - accuracy: 0.9247 - val_loss: 0.2879 - val_accuracy: 0.8972\n"
          ],
          "name": "stdout"
        },
        {
          "output_type": "display_data",
          "data": {
            "image/png": "[encoded data removed]",
            "text/plain": [
              "<Figure size 576x360 with 1 Axes>"
            ]
          },
          "metadata": {
            "tags": [],
            "needs_background": "light"
          }
        },
        {
          "output_type": "stream",
          "text": [
            "313/313 [==============================] - 1s 2ms/step - loss: 0.3248 - accuracy: 0.8848\n"
          ],
          "name": "stdout"
        }
      ]
    },
    {
      "cell_type": "markdown",
      "metadata": {
        "id": "JjT7wB7lrsJo"
      },
      "source": [
        "# Model 3:\n",
        "\n",
        "5 layers, units: 300, 200, 150, 100, 50 and 10 in the layers."
      ]
    },
    {
      "cell_type": "code",
      "metadata": {
        "colab": {
          "base_uri": "https://localhost:8080/"
        },
        "id": "7MNhzxxorrOg",
        "outputId": "235d4ec8-6caf-435f-b0f1-dfd5730957c9"
      },
      "source": [
        "model_3 = keras.models.Sequential()\n",
        "model_3.add(keras.layers.Flatten(input_shape=[28, 28]))\n",
        "model_3.add(keras.layers.Dense(300, activation=\"relu\"))\n",
        "model_3.add(keras.layers.Dense(200, activation=\"relu\"))\n",
        "model_3.add(keras.layers.Dense(150, activation=\"relu\"))\n",
        "model_3.add(keras.layers.Dense(100, activation=\"relu\"))\n",
        "model_3.add(keras.layers.Dense(50, activation=\"relu\"))\n",
        "model_3.add(keras.layers.Dense(10, activation=\"sigmoid\"))\n",
        "\n",
        "display_model(model_3)"
      ],
      "execution_count": 62,
      "outputs": [
        {
          "output_type": "stream",
          "text": [
            "Model: \"sequential_9\"\n",
            "_________________________________________________________________\n",
            "Layer (type)                 Output Shape              Param #   \n",
            "=================================================================\n",
            "flatten_9 (Flatten)          (None, 784)               0         \n",
            "_________________________________________________________________\n",
            "dense_42 (Dense)             (None, 300)               235500    \n",
            "_________________________________________________________________\n",
            "dense_43 (Dense)             (None, 200)               60200     \n",
            "_________________________________________________________________\n",
            "dense_44 (Dense)             (None, 150)               30150     \n",
            "_________________________________________________________________\n",
            "dense_45 (Dense)             (None, 100)               15100     \n",
            "_________________________________________________________________\n",
            "dense_46 (Dense)             (None, 50)                5050      \n",
            "_________________________________________________________________\n",
            "dense_47 (Dense)             (None, 10)                510       \n",
            "=================================================================\n",
            "Total params: 346,510\n",
            "Trainable params: 346,510\n",
            "Non-trainable params: 0\n",
            "_________________________________________________________________\n",
            "None\n"
          ],
          "name": "stdout"
        }
      ]
    },
    {
      "cell_type": "code",
      "metadata": {
        "colab": {
          "base_uri": "https://localhost:8080/",
          "height": 1000
        },
        "id": "Nxfy6Un4FUGz",
        "outputId": "cbbb9cb2-08b2-48c7-beb0-6c9a2ad9783c"
      },
      "source": [
        "model_train_evaluate(model_3)"
      ],
      "execution_count": 63,
      "outputs": [
        {
          "output_type": "stream",
          "text": [
            "Hidden layer:  dense_42\n",
            "Weights:  [[-0.05678848 -0.03203875  0.05579263 ... -0.06610628  0.03028055\n",
            "   0.04251494]\n",
            " [ 0.05546762 -0.03209741  0.04322055 ... -0.01301263 -0.06584503\n",
            "  -0.0104987 ]\n",
            " [-0.03447153  0.06502059 -0.06684531 ...  0.04196914 -0.04333535\n",
            "   0.01571879]\n",
            " ...\n",
            " [-0.03302939 -0.00037406 -0.00990485 ... -0.02553286  0.06770428\n",
            "  -0.05674318]\n",
            " [ 0.03418241  0.05275573  0.0471497  ... -0.05637195  0.00038204\n",
            "   0.05551596]\n",
            " [-0.03396418 -0.01608212 -0.04436725 ...  0.05253771  0.05835016\n",
            "   0.07326458]]   biases:  [0. 0. 0. 0. 0. 0. 0. 0. 0. 0. 0. 0. 0. 0. 0. 0. 0. 0. 0. 0. 0. 0. 0. 0.\n",
            " 0. 0. 0. 0. 0. 0. 0. 0. 0. 0. 0. 0. 0. 0. 0. 0. 0. 0. 0. 0. 0. 0. 0. 0.\n",
            " 0. 0. 0. 0. 0. 0. 0. 0. 0. 0. 0. 0. 0. 0. 0. 0. 0. 0. 0. 0. 0. 0. 0. 0.\n",
            " 0. 0. 0. 0. 0. 0. 0. 0. 0. 0. 0. 0. 0. 0. 0. 0. 0. 0. 0. 0. 0. 0. 0. 0.\n",
            " 0. 0. 0. 0. 0. 0. 0. 0. 0. 0. 0. 0. 0. 0. 0. 0. 0. 0. 0. 0. 0. 0. 0. 0.\n",
            " 0. 0. 0. 0. 0. 0. 0. 0. 0. 0. 0. 0. 0. 0. 0. 0. 0. 0. 0. 0. 0. 0. 0. 0.\n",
            " 0. 0. 0. 0. 0. 0. 0. 0. 0. 0. 0. 0. 0. 0. 0. 0. 0. 0. 0. 0. 0. 0. 0. 0.\n",
            " 0. 0. 0. 0. 0. 0. 0. 0. 0. 0. 0. 0. 0. 0. 0. 0. 0. 0. 0. 0. 0. 0. 0. 0.\n",
            " 0. 0. 0. 0. 0. 0. 0. 0. 0. 0. 0. 0. 0. 0. 0. 0. 0. 0. 0. 0. 0. 0. 0. 0.\n",
            " 0. 0. 0. 0. 0. 0. 0. 0. 0. 0. 0. 0. 0. 0. 0. 0. 0. 0. 0. 0. 0. 0. 0. 0.\n",
            " 0. 0. 0. 0. 0. 0. 0. 0. 0. 0. 0. 0. 0. 0. 0. 0. 0. 0. 0. 0. 0. 0. 0. 0.\n",
            " 0. 0. 0. 0. 0. 0. 0. 0. 0. 0. 0. 0. 0. 0. 0. 0. 0. 0. 0. 0. 0. 0. 0. 0.\n",
            " 0. 0. 0. 0. 0. 0. 0. 0. 0. 0. 0. 0.]\n",
            "Epoch 1/30\n",
            "1719/1719 [==============================] - 8s 4ms/step - loss: 1.1771 - accuracy: 0.5968 - val_loss: 0.5246 - val_accuracy: 0.8136\n",
            "Epoch 2/30\n",
            "1719/1719 [==============================] - 7s 4ms/step - loss: 0.4960 - accuracy: 0.8208 - val_loss: 0.4038 - val_accuracy: 0.8576\n",
            "Epoch 3/30\n",
            "1719/1719 [==============================] - 7s 4ms/step - loss: 0.4312 - accuracy: 0.8449 - val_loss: 0.3801 - val_accuracy: 0.8650\n",
            "Epoch 4/30\n",
            "1719/1719 [==============================] - 7s 4ms/step - loss: 0.3968 - accuracy: 0.8574 - val_loss: 0.3697 - val_accuracy: 0.8674\n",
            "Epoch 5/30\n",
            "1719/1719 [==============================] - 7s 4ms/step - loss: 0.3616 - accuracy: 0.8687 - val_loss: 0.3707 - val_accuracy: 0.8660\n",
            "Epoch 6/30\n",
            "1719/1719 [==============================] - 7s 4ms/step - loss: 0.3466 - accuracy: 0.8768 - val_loss: 0.3682 - val_accuracy: 0.8656\n",
            "Epoch 7/30\n",
            "1719/1719 [==============================] - 7s 4ms/step - loss: 0.3293 - accuracy: 0.8771 - val_loss: 0.3505 - val_accuracy: 0.8740\n",
            "Epoch 8/30\n",
            "1719/1719 [==============================] - 7s 4ms/step - loss: 0.3158 - accuracy: 0.8856 - val_loss: 0.3518 - val_accuracy: 0.8686\n",
            "Epoch 9/30\n",
            "1719/1719 [==============================] - 7s 4ms/step - loss: 0.3076 - accuracy: 0.8871 - val_loss: 0.3318 - val_accuracy: 0.8790\n",
            "Epoch 10/30\n",
            "1719/1719 [==============================] - 7s 4ms/step - loss: 0.2908 - accuracy: 0.8933 - val_loss: 0.3394 - val_accuracy: 0.8788\n",
            "Epoch 11/30\n",
            "1719/1719 [==============================] - 7s 4ms/step - loss: 0.2842 - accuracy: 0.8947 - val_loss: 0.3429 - val_accuracy: 0.8720\n",
            "Epoch 12/30\n",
            "1719/1719 [==============================] - 8s 4ms/step - loss: 0.2723 - accuracy: 0.8995 - val_loss: 0.3121 - val_accuracy: 0.8850\n",
            "Epoch 13/30\n",
            "1719/1719 [==============================] - 7s 4ms/step - loss: 0.2604 - accuracy: 0.9026 - val_loss: 0.3119 - val_accuracy: 0.8856\n",
            "Epoch 14/30\n",
            "1719/1719 [==============================] - 7s 4ms/step - loss: 0.2559 - accuracy: 0.9055 - val_loss: 0.3295 - val_accuracy: 0.8812\n",
            "Epoch 15/30\n",
            "1719/1719 [==============================] - 7s 4ms/step - loss: 0.2495 - accuracy: 0.9095 - val_loss: 0.3199 - val_accuracy: 0.8846\n",
            "Epoch 16/30\n",
            "1719/1719 [==============================] - 7s 4ms/step - loss: 0.2410 - accuracy: 0.9115 - val_loss: 0.3141 - val_accuracy: 0.8826\n",
            "Epoch 17/30\n",
            "1719/1719 [==============================] - 8s 5ms/step - loss: 0.2362 - accuracy: 0.9137 - val_loss: 0.3077 - val_accuracy: 0.8900\n",
            "Epoch 18/30\n",
            "1719/1719 [==============================] - 7s 4ms/step - loss: 0.2278 - accuracy: 0.9153 - val_loss: 0.3235 - val_accuracy: 0.8828\n",
            "Epoch 19/30\n",
            "1719/1719 [==============================] - 7s 4ms/step - loss: 0.2248 - accuracy: 0.9157 - val_loss: 0.3306 - val_accuracy: 0.8804\n",
            "Epoch 20/30\n",
            "1719/1719 [==============================] - 8s 4ms/step - loss: 0.2232 - accuracy: 0.9172 - val_loss: 0.2971 - val_accuracy: 0.8890\n",
            "Epoch 21/30\n",
            "1719/1719 [==============================] - 7s 4ms/step - loss: 0.2093 - accuracy: 0.9223 - val_loss: 0.3310 - val_accuracy: 0.8816\n",
            "Epoch 22/30\n",
            "1719/1719 [==============================] - 8s 4ms/step - loss: 0.2065 - accuracy: 0.9226 - val_loss: 0.3107 - val_accuracy: 0.8878\n",
            "Epoch 23/30\n",
            "1719/1719 [==============================] - 8s 4ms/step - loss: 0.1988 - accuracy: 0.9254 - val_loss: 0.3272 - val_accuracy: 0.8886\n",
            "Epoch 24/30\n",
            "1719/1719 [==============================] - 8s 4ms/step - loss: 0.1969 - accuracy: 0.9258 - val_loss: 0.2934 - val_accuracy: 0.8924\n",
            "Epoch 25/30\n",
            "1719/1719 [==============================] - 7s 4ms/step - loss: 0.1886 - accuracy: 0.9304 - val_loss: 0.2967 - val_accuracy: 0.8930\n",
            "Epoch 26/30\n",
            "1719/1719 [==============================] - 7s 4ms/step - loss: 0.1892 - accuracy: 0.9303 - val_loss: 0.3024 - val_accuracy: 0.8946\n",
            "Epoch 27/30\n",
            "1719/1719 [==============================] - 8s 5ms/step - loss: 0.1799 - accuracy: 0.9328 - val_loss: 0.3081 - val_accuracy: 0.8898\n",
            "Epoch 28/30\n",
            "1719/1719 [==============================] - 8s 5ms/step - loss: 0.1791 - accuracy: 0.9335 - val_loss: 0.3193 - val_accuracy: 0.8942\n",
            "Epoch 29/30\n",
            "1719/1719 [==============================] - 9s 5ms/step - loss: 0.1736 - accuracy: 0.9349 - val_loss: 0.3264 - val_accuracy: 0.8902\n",
            "Epoch 30/30\n",
            "1719/1719 [==============================] - 8s 5ms/step - loss: 0.1662 - accuracy: 0.9392 - val_loss: 0.3115 - val_accuracy: 0.8930\n"
          ],
          "name": "stdout"
        },
        {
          "output_type": "display_data",
          "data": {
            "image/png": "[encoded data removed]",
            "text/plain": [
              "<Figure size 576x360 with 1 Axes>"
            ]
          },
          "metadata": {
            "tags": [],
            "needs_background": "light"
          }
        },
        {
          "output_type": "stream",
          "text": [
            "313/313 [==============================] - 1s 2ms/step - loss: 0.3632 - accuracy: 0.8803\n"
          ],
          "name": "stdout"
        }
      ]
    },
    {
      "cell_type": "markdown",
      "metadata": {
        "id": "3UIRvoY4tDZs"
      },
      "source": [
        "# Model 4\n",
        "\n",
        "5 layers, units in layers: 700, 500, 400, 300, 150 and 10"
      ]
    },
    {
      "cell_type": "code",
      "metadata": {
        "colab": {
          "base_uri": "https://localhost:8080/",
          "height": 1000
        },
        "id": "OMQBemnEtChZ",
        "outputId": "e4a51dc7-63c1-404d-e6eb-6bee7f4cc976"
      },
      "source": [
        "model_4 = keras.models.Sequential()\n",
        "model_4.add(keras.layers.Flatten(input_shape=[28, 28]))\n",
        "model_4.add(keras.layers.Dense(700, activation=\"relu\"))\n",
        "model_4.add(keras.layers.Dense(500, activation=\"relu\"))\n",
        "model_4.add(keras.layers.Dense(400, activation=\"relu\"))\n",
        "model_4.add(keras.layers.Dense(300, activation=\"relu\"))\n",
        "model_4.add(keras.layers.Dense(150, activation=\"relu\"))\n",
        "model_4.add(keras.layers.Dense(10, activation=\"sigmoid\"))\n",
        "\n",
        "display_model(model_4)\n",
        "model_train_evaluate(model_4)"
      ],
      "execution_count": 64,
      "outputs": [
        {
          "output_type": "stream",
          "text": [
            "Model: \"sequential_10\"\n",
            "_________________________________________________________________\n",
            "Layer (type)                 Output Shape              Param #   \n",
            "=================================================================\n",
            "flatten_10 (Flatten)         (None, 784)               0         \n",
            "_________________________________________________________________\n",
            "dense_48 (Dense)             (None, 700)               549500    \n",
            "_________________________________________________________________\n",
            "dense_49 (Dense)             (None, 500)               350500    \n",
            "_________________________________________________________________\n",
            "dense_50 (Dense)             (None, 400)               200400    \n",
            "_________________________________________________________________\n",
            "dense_51 (Dense)             (None, 300)               120300    \n",
            "_________________________________________________________________\n",
            "dense_52 (Dense)             (None, 150)               45150     \n",
            "_________________________________________________________________\n",
            "dense_53 (Dense)             (None, 10)                1510      \n",
            "=================================================================\n",
            "Total params: 1,267,360\n",
            "Trainable params: 1,267,360\n",
            "Non-trainable params: 0\n",
            "_________________________________________________________________\n",
            "None\n",
            "Hidden layer:  dense_48\n",
            "Weights:  [[ 0.02975864  0.00290229 -0.03598197 ... -0.047293   -0.06103019\n",
            "   0.02813759]\n",
            " [ 0.04003797  0.05113472 -0.01225298 ... -0.00097603  0.04270349\n",
            "   0.00402846]\n",
            " [-0.03588473  0.01939625 -0.02705425 ... -0.05718163 -0.02324661\n",
            "   0.01021912]\n",
            " ...\n",
            " [ 0.00351492  0.04141596  0.04061092 ...  0.02530773  0.04474778\n",
            "   0.04881199]\n",
            " [-0.04767664 -0.00310284  0.05832966 ... -0.05453335 -0.00208444\n",
            "  -0.02831917]\n",
            " [ 0.02470512 -0.00855222 -0.02683073 ... -0.02619195  0.00161418\n",
            "  -0.01525041]]   biases:  [0. 0. 0. 0. 0. 0. 0. 0. 0. 0. 0. 0. 0. 0. 0. 0. 0. 0. 0. 0. 0. 0. 0. 0.\n",
            " 0. 0. 0. 0. 0. 0. 0. 0. 0. 0. 0. 0. 0. 0. 0. 0. 0. 0. 0. 0. 0. 0. 0. 0.\n",
            " 0. 0. 0. 0. 0. 0. 0. 0. 0. 0. 0. 0. 0. 0. 0. 0. 0. 0. 0. 0. 0. 0. 0. 0.\n",
            " 0. 0. 0. 0. 0. 0. 0. 0. 0. 0. 0. 0. 0. 0. 0. 0. 0. 0. 0. 0. 0. 0. 0. 0.\n",
            " 0. 0. 0. 0. 0. 0. 0. 0. 0. 0. 0. 0. 0. 0. 0. 0. 0. 0. 0. 0. 0. 0. 0. 0.\n",
            " 0. 0. 0. 0. 0. 0. 0. 0. 0. 0. 0. 0. 0. 0. 0. 0. 0. 0. 0. 0. 0. 0. 0. 0.\n",
            " 0. 0. 0. 0. 0. 0. 0. 0. 0. 0. 0. 0. 0. 0. 0. 0. 0. 0. 0. 0. 0. 0. 0. 0.\n",
            " 0. 0. 0. 0. 0. 0. 0. 0. 0. 0. 0. 0. 0. 0. 0. 0. 0. 0. 0. 0. 0. 0. 0. 0.\n",
            " 0. 0. 0. 0. 0. 0. 0. 0. 0. 0. 0. 0. 0. 0. 0. 0. 0. 0. 0. 0. 0. 0. 0. 0.\n",
            " 0. 0. 0. 0. 0. 0. 0. 0. 0. 0. 0. 0. 0. 0. 0. 0. 0. 0. 0. 0. 0. 0. 0. 0.\n",
            " 0. 0. 0. 0. 0. 0. 0. 0. 0. 0. 0. 0. 0. 0. 0. 0. 0. 0. 0. 0. 0. 0. 0. 0.\n",
            " 0. 0. 0. 0. 0. 0. 0. 0. 0. 0. 0. 0. 0. 0. 0. 0. 0. 0. 0. 0. 0. 0. 0. 0.\n",
            " 0. 0. 0. 0. 0. 0. 0. 0. 0. 0. 0. 0. 0. 0. 0. 0. 0. 0. 0. 0. 0. 0. 0. 0.\n",
            " 0. 0. 0. 0. 0. 0. 0. 0. 0. 0. 0. 0. 0. 0. 0. 0. 0. 0. 0. 0. 0. 0. 0. 0.\n",
            " 0. 0. 0. 0. 0. 0. 0. 0. 0. 0. 0. 0. 0. 0. 0. 0. 0. 0. 0. 0. 0. 0. 0. 0.\n",
            " 0. 0. 0. 0. 0. 0. 0. 0. 0. 0. 0. 0. 0. 0. 0. 0. 0. 0. 0. 0. 0. 0. 0. 0.\n",
            " 0. 0. 0. 0. 0. 0. 0. 0. 0. 0. 0. 0. 0. 0. 0. 0. 0. 0. 0. 0. 0. 0. 0. 0.\n",
            " 0. 0. 0. 0. 0. 0. 0. 0. 0. 0. 0. 0. 0. 0. 0. 0. 0. 0. 0. 0. 0. 0. 0. 0.\n",
            " 0. 0. 0. 0. 0. 0. 0. 0. 0. 0. 0. 0. 0. 0. 0. 0. 0. 0. 0. 0. 0. 0. 0. 0.\n",
            " 0. 0. 0. 0. 0. 0. 0. 0. 0. 0. 0. 0. 0. 0. 0. 0. 0. 0. 0. 0. 0. 0. 0. 0.\n",
            " 0. 0. 0. 0. 0. 0. 0. 0. 0. 0. 0. 0. 0. 0. 0. 0. 0. 0. 0. 0. 0. 0. 0. 0.\n",
            " 0. 0. 0. 0. 0. 0. 0. 0. 0. 0. 0. 0. 0. 0. 0. 0. 0. 0. 0. 0. 0. 0. 0. 0.\n",
            " 0. 0. 0. 0. 0. 0. 0. 0. 0. 0. 0. 0. 0. 0. 0. 0. 0. 0. 0. 0. 0. 0. 0. 0.\n",
            " 0. 0. 0. 0. 0. 0. 0. 0. 0. 0. 0. 0. 0. 0. 0. 0. 0. 0. 0. 0. 0. 0. 0. 0.\n",
            " 0. 0. 0. 0. 0. 0. 0. 0. 0. 0. 0. 0. 0. 0. 0. 0. 0. 0. 0. 0. 0. 0. 0. 0.\n",
            " 0. 0. 0. 0. 0. 0. 0. 0. 0. 0. 0. 0. 0. 0. 0. 0. 0. 0. 0. 0. 0. 0. 0. 0.\n",
            " 0. 0. 0. 0. 0. 0. 0. 0. 0. 0. 0. 0. 0. 0. 0. 0. 0. 0. 0. 0. 0. 0. 0. 0.\n",
            " 0. 0. 0. 0. 0. 0. 0. 0. 0. 0. 0. 0. 0. 0. 0. 0. 0. 0. 0. 0. 0. 0. 0. 0.\n",
            " 0. 0. 0. 0. 0. 0. 0. 0. 0. 0. 0. 0. 0. 0. 0. 0. 0. 0. 0. 0. 0. 0. 0. 0.\n",
            " 0. 0. 0. 0.]\n",
            "Epoch 1/30\n",
            "1719/1719 [==============================] - 23s 13ms/step - loss: 1.0467 - accuracy: 0.6514 - val_loss: 0.5046 - val_accuracy: 0.8272\n",
            "Epoch 2/30\n",
            "1719/1719 [==============================] - 24s 14ms/step - loss: 0.4766 - accuracy: 0.8295 - val_loss: 0.3890 - val_accuracy: 0.8654\n",
            "Epoch 3/30\n",
            "1719/1719 [==============================] - 25s 15ms/step - loss: 0.4107 - accuracy: 0.8533 - val_loss: 0.3659 - val_accuracy: 0.8710\n",
            "Epoch 4/30\n",
            "1719/1719 [==============================] - 24s 14ms/step - loss: 0.3755 - accuracy: 0.8665 - val_loss: 0.3526 - val_accuracy: 0.8714\n",
            "Epoch 5/30\n",
            "1719/1719 [==============================] - 24s 14ms/step - loss: 0.3403 - accuracy: 0.8775 - val_loss: 0.3461 - val_accuracy: 0.8756\n",
            "Epoch 6/30\n",
            "1719/1719 [==============================] - 22s 13ms/step - loss: 0.3270 - accuracy: 0.8830 - val_loss: 0.3414 - val_accuracy: 0.8746\n",
            "Epoch 7/30\n",
            "1719/1719 [==============================] - 22s 13ms/step - loss: 0.3092 - accuracy: 0.8858 - val_loss: 0.3233 - val_accuracy: 0.8842\n",
            "Epoch 8/30\n",
            "1719/1719 [==============================] - 22s 13ms/step - loss: 0.2942 - accuracy: 0.8926 - val_loss: 0.3431 - val_accuracy: 0.8736\n",
            "Epoch 9/30\n",
            "1719/1719 [==============================] - 21s 12ms/step - loss: 0.2861 - accuracy: 0.8959 - val_loss: 0.3213 - val_accuracy: 0.8822\n",
            "Epoch 10/30\n",
            "1719/1719 [==============================] - 22s 13ms/step - loss: 0.2694 - accuracy: 0.9001 - val_loss: 0.3134 - val_accuracy: 0.8848\n",
            "Epoch 11/30\n",
            "1719/1719 [==============================] - 24s 14ms/step - loss: 0.2594 - accuracy: 0.9031 - val_loss: 0.3365 - val_accuracy: 0.8776\n",
            "Epoch 12/30\n",
            "1719/1719 [==============================] - 24s 14ms/step - loss: 0.2490 - accuracy: 0.9077 - val_loss: 0.3019 - val_accuracy: 0.8888\n",
            "Epoch 13/30\n",
            "1719/1719 [==============================] - 23s 14ms/step - loss: 0.2357 - accuracy: 0.9129 - val_loss: 0.3079 - val_accuracy: 0.8872\n",
            "Epoch 14/30\n",
            "1719/1719 [==============================] - 25s 14ms/step - loss: 0.2296 - accuracy: 0.9146 - val_loss: 0.3082 - val_accuracy: 0.8878\n",
            "Epoch 15/30\n",
            "1719/1719 [==============================] - 24s 14ms/step - loss: 0.2225 - accuracy: 0.9198 - val_loss: 0.3049 - val_accuracy: 0.8910\n",
            "Epoch 16/30\n",
            "1719/1719 [==============================] - 22s 13ms/step - loss: 0.2136 - accuracy: 0.9214 - val_loss: 0.3012 - val_accuracy: 0.8864\n",
            "Epoch 17/30\n",
            "1719/1719 [==============================] - 24s 14ms/step - loss: 0.2086 - accuracy: 0.9239 - val_loss: 0.2978 - val_accuracy: 0.8932\n",
            "Epoch 18/30\n",
            "1719/1719 [==============================] - 23s 13ms/step - loss: 0.1994 - accuracy: 0.9262 - val_loss: 0.3145 - val_accuracy: 0.8834\n",
            "Epoch 19/30\n",
            "1719/1719 [==============================] - 23s 13ms/step - loss: 0.1966 - accuracy: 0.9280 - val_loss: 0.3082 - val_accuracy: 0.8880\n",
            "Epoch 20/30\n",
            "1719/1719 [==============================] - 22s 13ms/step - loss: 0.1921 - accuracy: 0.9285 - val_loss: 0.2811 - val_accuracy: 0.8972\n",
            "Epoch 21/30\n",
            "1719/1719 [==============================] - 23s 13ms/step - loss: 0.1794 - accuracy: 0.9342 - val_loss: 0.3009 - val_accuracy: 0.8940\n",
            "Epoch 22/30\n",
            "1719/1719 [==============================] - 22s 13ms/step - loss: 0.1765 - accuracy: 0.9354 - val_loss: 0.3295 - val_accuracy: 0.8876\n",
            "Epoch 23/30\n",
            "1719/1719 [==============================] - 22s 13ms/step - loss: 0.1704 - accuracy: 0.9366 - val_loss: 0.3132 - val_accuracy: 0.8892\n",
            "Epoch 24/30\n",
            "1719/1719 [==============================] - 22s 13ms/step - loss: 0.1665 - accuracy: 0.9381 - val_loss: 0.2721 - val_accuracy: 0.9022\n",
            "Epoch 25/30\n",
            "1719/1719 [==============================] - 23s 13ms/step - loss: 0.1575 - accuracy: 0.9418 - val_loss: 0.3022 - val_accuracy: 0.8980\n",
            "Epoch 26/30\n",
            "1719/1719 [==============================] - 25s 15ms/step - loss: 0.1545 - accuracy: 0.9422 - val_loss: 0.3042 - val_accuracy: 0.8938\n",
            "Epoch 27/30\n",
            "1719/1719 [==============================] - 23s 13ms/step - loss: 0.1428 - accuracy: 0.9470 - val_loss: 0.3042 - val_accuracy: 0.8950\n",
            "Epoch 28/30\n",
            "1719/1719 [==============================] - 24s 14ms/step - loss: 0.1427 - accuracy: 0.9465 - val_loss: 0.3527 - val_accuracy: 0.8922\n",
            "Epoch 29/30\n",
            "1719/1719 [==============================] - 23s 13ms/step - loss: 0.1367 - accuracy: 0.9512 - val_loss: 0.3351 - val_accuracy: 0.8916\n",
            "Epoch 30/30\n",
            "1719/1719 [==============================] - 24s 14ms/step - loss: 0.1318 - accuracy: 0.9522 - val_loss: 0.2998 - val_accuracy: 0.8994\n"
          ],
          "name": "stdout"
        },
        {
          "output_type": "display_data",
          "data": {
            "image/png": "[encoded data removed]",
            "text/plain": [
              "<Figure size 576x360 with 1 Axes>"
            ]
          },
          "metadata": {
            "tags": [],
            "needs_background": "light"
          }
        },
        {
          "output_type": "stream",
          "text": [
            "313/313 [==============================] - 2s 5ms/step - loss: 0.3544 - accuracy: 0.8875\n"
          ],
          "name": "stdout"
        }
      ]
    },
    {
      "cell_type": "markdown",
      "metadata": {
        "id": "USD6Root9M1g"
      },
      "source": [
        "# Model 5\n",
        " 8 Layers with "
      ]
    },
    {
      "cell_type": "code",
      "metadata": {
        "colab": {
          "base_uri": "https://localhost:8080/"
        },
        "id": "QqKWW19S9PIh",
        "outputId": "3cb16865-e872-4332-8b44-46f494466ba8"
      },
      "source": [
        "model_5 = keras.models.Sequential()\n",
        "model_5.add(keras.layers.Flatten(input_shape=[28, 28]))\n",
        "model_5.add(keras.layers.Dense(300, activation=\"relu\")) #1\n",
        "model_5.add(keras.layers.Dense(250, activation=\"relu\")) #2\n",
        "model_5.add(keras.layers.Dense(200, activation=\"relu\")) #3 \n",
        "model_5.add(keras.layers.Dense(150, activation=\"relu\")) #4 \n",
        "model_5.add(keras.layers.Dense(100, activation=\"relu\"))  #5 \n",
        "model_5.add(keras.layers.Dense(50, activation=\"relu\")) #6\n",
        "model_5.add(keras.layers.Dense(40, activation=\"relu\")) #7\n",
        "model_5.add(keras.layers.Dense(20, activation=\"relu\")) #8\n",
        "model_5.add(keras.layers.Dense(10, activation=\"sigmoid\"))\n",
        "\n",
        "display_model(model_5)"
      ],
      "execution_count": 68,
      "outputs": [
        {
          "output_type": "stream",
          "text": [
            "Model: \"sequential_12\"\n",
            "_________________________________________________________________\n",
            "Layer (type)                 Output Shape              Param #   \n",
            "=================================================================\n",
            "flatten_12 (Flatten)         (None, 784)               0         \n",
            "_________________________________________________________________\n",
            "dense_57 (Dense)             (None, 300)               235500    \n",
            "_________________________________________________________________\n",
            "dense_58 (Dense)             (None, 250)               75250     \n",
            "_________________________________________________________________\n",
            "dense_59 (Dense)             (None, 200)               50200     \n",
            "_________________________________________________________________\n",
            "dense_60 (Dense)             (None, 150)               30150     \n",
            "_________________________________________________________________\n",
            "dense_61 (Dense)             (None, 100)               15100     \n",
            "_________________________________________________________________\n",
            "dense_62 (Dense)             (None, 50)                5050      \n",
            "_________________________________________________________________\n",
            "dense_63 (Dense)             (None, 40)                2040      \n",
            "_________________________________________________________________\n",
            "dense_64 (Dense)             (None, 20)                820       \n",
            "_________________________________________________________________\n",
            "dense_65 (Dense)             (None, 10)                210       \n",
            "=================================================================\n",
            "Total params: 414,320\n",
            "Trainable params: 414,320\n",
            "Non-trainable params: 0\n",
            "_________________________________________________________________\n",
            "None\n"
          ],
          "name": "stdout"
        }
      ]
    },
    {
      "cell_type": "code",
      "metadata": {
        "colab": {
          "base_uri": "https://localhost:8080/",
          "height": 1000
        },
        "id": "GxaKpslyFhUb",
        "outputId": "7910eaa0-24dd-446b-e3b1-271beabcfb4c"
      },
      "source": [
        "model_train_evaluate(model_5)"
      ],
      "execution_count": 69,
      "outputs": [
        {
          "output_type": "stream",
          "text": [
            "Hidden layer:  dense_57\n",
            "Weights:  [[ 0.06562595  0.02475683  0.0733407  ... -0.05230749 -0.00861038\n",
            "  -0.06164649]\n",
            " [ 0.00578769 -0.07215122 -0.06277682 ... -0.04346393  0.0430169\n",
            "   0.02664955]\n",
            " [ 0.06947748 -0.01193513 -0.00340614 ...  0.01488793  0.03257002\n",
            "  -0.012432  ]\n",
            " ...\n",
            " [-0.03298347  0.06485693  0.07321434 ... -0.00751853 -0.0713152\n",
            "   0.00739436]\n",
            " [ 0.04021317 -0.03396159  0.03102414 ...  0.04785707 -0.036466\n",
            "  -0.01554601]\n",
            " [-0.04863131 -0.03318403  0.00862812 ... -0.00685875 -0.0139085\n",
            "  -0.05265081]]   biases:  [0. 0. 0. 0. 0. 0. 0. 0. 0. 0. 0. 0. 0. 0. 0. 0. 0. 0. 0. 0. 0. 0. 0. 0.\n",
            " 0. 0. 0. 0. 0. 0. 0. 0. 0. 0. 0. 0. 0. 0. 0. 0. 0. 0. 0. 0. 0. 0. 0. 0.\n",
            " 0. 0. 0. 0. 0. 0. 0. 0. 0. 0. 0. 0. 0. 0. 0. 0. 0. 0. 0. 0. 0. 0. 0. 0.\n",
            " 0. 0. 0. 0. 0. 0. 0. 0. 0. 0. 0. 0. 0. 0. 0. 0. 0. 0. 0. 0. 0. 0. 0. 0.\n",
            " 0. 0. 0. 0. 0. 0. 0. 0. 0. 0. 0. 0. 0. 0. 0. 0. 0. 0. 0. 0. 0. 0. 0. 0.\n",
            " 0. 0. 0. 0. 0. 0. 0. 0. 0. 0. 0. 0. 0. 0. 0. 0. 0. 0. 0. 0. 0. 0. 0. 0.\n",
            " 0. 0. 0. 0. 0. 0. 0. 0. 0. 0. 0. 0. 0. 0. 0. 0. 0. 0. 0. 0. 0. 0. 0. 0.\n",
            " 0. 0. 0. 0. 0. 0. 0. 0. 0. 0. 0. 0. 0. 0. 0. 0. 0. 0. 0. 0. 0. 0. 0. 0.\n",
            " 0. 0. 0. 0. 0. 0. 0. 0. 0. 0. 0. 0. 0. 0. 0. 0. 0. 0. 0. 0. 0. 0. 0. 0.\n",
            " 0. 0. 0. 0. 0. 0. 0. 0. 0. 0. 0. 0. 0. 0. 0. 0. 0. 0. 0. 0. 0. 0. 0. 0.\n",
            " 0. 0. 0. 0. 0. 0. 0. 0. 0. 0. 0. 0. 0. 0. 0. 0. 0. 0. 0. 0. 0. 0. 0. 0.\n",
            " 0. 0. 0. 0. 0. 0. 0. 0. 0. 0. 0. 0. 0. 0. 0. 0. 0. 0. 0. 0. 0. 0. 0. 0.\n",
            " 0. 0. 0. 0. 0. 0. 0. 0. 0. 0. 0. 0.]\n",
            "Epoch 1/30\n",
            "1719/1719 [==============================] - 10s 5ms/step - loss: 1.6170 - accuracy: 0.3960 - val_loss: 0.5892 - val_accuracy: 0.7980\n",
            "Epoch 2/30\n",
            "1719/1719 [==============================] - 8s 5ms/step - loss: 0.5436 - accuracy: 0.8057 - val_loss: 0.4336 - val_accuracy: 0.8464\n",
            "Epoch 3/30\n",
            "1719/1719 [==============================] - 8s 5ms/step - loss: 0.4485 - accuracy: 0.8397 - val_loss: 0.3981 - val_accuracy: 0.8602\n",
            "Epoch 4/30\n",
            "1719/1719 [==============================] - 8s 5ms/step - loss: 0.3983 - accuracy: 0.8563 - val_loss: 0.3756 - val_accuracy: 0.8634\n",
            "Epoch 5/30\n",
            "1719/1719 [==============================] - 8s 5ms/step - loss: 0.3586 - accuracy: 0.8695 - val_loss: 0.4189 - val_accuracy: 0.8504\n",
            "Epoch 6/30\n",
            "1719/1719 [==============================] - 9s 5ms/step - loss: 0.3420 - accuracy: 0.8760 - val_loss: 0.3470 - val_accuracy: 0.8704\n",
            "Epoch 7/30\n",
            "1719/1719 [==============================] - 10s 6ms/step - loss: 0.3234 - accuracy: 0.8795 - val_loss: 0.3401 - val_accuracy: 0.8756\n",
            "Epoch 8/30\n",
            "1719/1719 [==============================] - 12s 7ms/step - loss: 0.3080 - accuracy: 0.8856 - val_loss: 0.3793 - val_accuracy: 0.8606\n",
            "Epoch 9/30\n",
            "1719/1719 [==============================] - 10s 6ms/step - loss: 0.2938 - accuracy: 0.8925 - val_loss: 0.3646 - val_accuracy: 0.8652\n",
            "Epoch 10/30\n",
            "1719/1719 [==============================] - 9s 5ms/step - loss: 0.2810 - accuracy: 0.8958 - val_loss: 0.3213 - val_accuracy: 0.8856\n",
            "Epoch 11/30\n",
            "1719/1719 [==============================] - 12s 7ms/step - loss: 0.2700 - accuracy: 0.8998 - val_loss: 0.3610 - val_accuracy: 0.8720\n",
            "Epoch 12/30\n",
            "1719/1719 [==============================] - 11s 6ms/step - loss: 0.2578 - accuracy: 0.9028 - val_loss: 0.3357 - val_accuracy: 0.8810\n",
            "Epoch 13/30\n",
            "1719/1719 [==============================] - 10s 6ms/step - loss: 0.2445 - accuracy: 0.9079 - val_loss: 0.3154 - val_accuracy: 0.8862\n",
            "Epoch 14/30\n",
            "1719/1719 [==============================] - 10s 6ms/step - loss: 0.2387 - accuracy: 0.9111 - val_loss: 0.3147 - val_accuracy: 0.8842\n",
            "Epoch 15/30\n",
            "1719/1719 [==============================] - 10s 6ms/step - loss: 0.2312 - accuracy: 0.9165 - val_loss: 0.3175 - val_accuracy: 0.8868\n",
            "Epoch 16/30\n",
            "1719/1719 [==============================] - 10s 6ms/step - loss: 0.2236 - accuracy: 0.9177 - val_loss: 0.3238 - val_accuracy: 0.8906\n",
            "Epoch 17/30\n",
            "1719/1719 [==============================] - 10s 6ms/step - loss: 0.2157 - accuracy: 0.9213 - val_loss: 0.3466 - val_accuracy: 0.8754\n",
            "Epoch 18/30\n",
            "1719/1719 [==============================] - 9s 5ms/step - loss: 0.2098 - accuracy: 0.9218 - val_loss: 0.3554 - val_accuracy: 0.8734\n",
            "Epoch 19/30\n",
            "1719/1719 [==============================] - 9s 5ms/step - loss: 0.2070 - accuracy: 0.9246 - val_loss: 0.3092 - val_accuracy: 0.8904\n",
            "Epoch 20/30\n",
            "1719/1719 [==============================] - 9s 5ms/step - loss: 0.2000 - accuracy: 0.9252 - val_loss: 0.3107 - val_accuracy: 0.8908\n",
            "Epoch 21/30\n",
            "1719/1719 [==============================] - 10s 6ms/step - loss: 0.1920 - accuracy: 0.9289 - val_loss: 0.3214 - val_accuracy: 0.8922\n",
            "Epoch 22/30\n",
            "1719/1719 [==============================] - 10s 6ms/step - loss: 0.1876 - accuracy: 0.9301 - val_loss: 0.3461 - val_accuracy: 0.8858\n",
            "Epoch 23/30\n",
            "1719/1719 [==============================] - 10s 6ms/step - loss: 0.1838 - accuracy: 0.9335 - val_loss: 0.3407 - val_accuracy: 0.8852\n",
            "Epoch 24/30\n",
            "1719/1719 [==============================] - 10s 6ms/step - loss: 0.1774 - accuracy: 0.9338 - val_loss: 0.3225 - val_accuracy: 0.8916\n",
            "Epoch 25/30\n",
            "1719/1719 [==============================] - 10s 6ms/step - loss: 0.1734 - accuracy: 0.9354 - val_loss: 0.3351 - val_accuracy: 0.8892\n",
            "Epoch 26/30\n",
            "1719/1719 [==============================] - 9s 5ms/step - loss: 0.1673 - accuracy: 0.9387 - val_loss: 0.3391 - val_accuracy: 0.8864\n",
            "Epoch 27/30\n",
            "1719/1719 [==============================] - 10s 6ms/step - loss: 0.1620 - accuracy: 0.9406 - val_loss: 0.3524 - val_accuracy: 0.8882\n",
            "Epoch 28/30\n",
            "1719/1719 [==============================] - 9s 6ms/step - loss: 0.1574 - accuracy: 0.9410 - val_loss: 0.3573 - val_accuracy: 0.8908\n",
            "Epoch 29/30\n",
            "1719/1719 [==============================] - 10s 6ms/step - loss: 0.1533 - accuracy: 0.9418 - val_loss: 0.3595 - val_accuracy: 0.8928\n",
            "Epoch 30/30\n",
            "1719/1719 [==============================] - 10s 6ms/step - loss: 0.1487 - accuracy: 0.9447 - val_loss: 0.3296 - val_accuracy: 0.8932\n"
          ],
          "name": "stdout"
        },
        {
          "output_type": "display_data",
          "data": {
            "image/png": "[encoded data removed]",
            "text/plain": [
              "<Figure size 576x360 with 1 Axes>"
            ]
          },
          "metadata": {
            "tags": [],
            "needs_background": "light"
          }
        },
        {
          "output_type": "stream",
          "text": [
            "313/313 [==============================] - 1s 2ms/step - loss: 0.3819 - accuracy: 0.8821\n"
          ],
          "name": "stdout"
        }
      ]
    },
    {
      "cell_type": "markdown",
      "metadata": {
        "id": "_h3VuJnyAql3"
      },
      "source": [
        "# Model 6:\n",
        "\n",
        "Same layers and units as Model 1, but with dropout layer included\n"
      ]
    },
    {
      "cell_type": "code",
      "metadata": {
        "id": "Ucqmac-7AxeC"
      },
      "source": [
        "model_6 = keras.models.Sequential()\n",
        "model_6.add(keras.layers.Flatten(input_shape=[28, 28]))\n",
        "model_6.add(keras.layers.Dense(300, activation=\"relu\"))\n",
        "model_6.add(keras.layers.Dropout(0.5))\n",
        "model_6.add(keras.layers.Dense(100, activation=\"relu\"))\n",
        "model_6.add(keras.layers.Dropout(0.5))\n",
        "model_6.add(keras.layers.Dense(10, activation=\"softmax\"))\n"
      ],
      "execution_count": 19,
      "outputs": []
    },
    {
      "cell_type": "code",
      "metadata": {
        "colab": {
          "base_uri": "https://localhost:8080/"
        },
        "id": "qTIFWEJBDFIX",
        "outputId": "f7d70732-4a10-45e1-c437-66c8bee48ae9"
      },
      "source": [
        "display_model(model_6)"
      ],
      "execution_count": 20,
      "outputs": [
        {
          "output_type": "stream",
          "text": [
            "Model: \"sequential_1\"\n",
            "_________________________________________________________________\n",
            "Layer (type)                 Output Shape              Param #   \n",
            "=================================================================\n",
            "flatten_1 (Flatten)          (None, 784)               0         \n",
            "_________________________________________________________________\n",
            "dense_6 (Dense)              (None, 300)               235500    \n",
            "_________________________________________________________________\n",
            "dropout_5 (Dropout)          (None, 300)               0         \n",
            "_________________________________________________________________\n",
            "dense_7 (Dense)              (None, 100)               30100     \n",
            "_________________________________________________________________\n",
            "dropout_6 (Dropout)          (None, 100)               0         \n",
            "_________________________________________________________________\n",
            "dense_8 (Dense)              (None, 10)                1010      \n",
            "=================================================================\n",
            "Total params: 266,610\n",
            "Trainable params: 266,610\n",
            "Non-trainable params: 0\n",
            "_________________________________________________________________\n",
            "None\n"
          ],
          "name": "stdout"
        }
      ]
    },
    {
      "cell_type": "code",
      "metadata": {
        "colab": {
          "base_uri": "https://localhost:8080/",
          "height": 1000
        },
        "id": "n2cn46a2DXdE",
        "outputId": "e45a0bab-11a5-4b99-8c56-418e1b7b3fa9"
      },
      "source": [
        "model_train_evaluate(model_6)"
      ],
      "execution_count": 21,
      "outputs": [
        {
          "output_type": "stream",
          "text": [
            "Epoch 1/30\n",
            "1719/1719 [==============================] - 5s 3ms/step - loss: 1.4265 - accuracy: 0.4999 - val_loss: 0.5964 - val_accuracy: 0.7962\n",
            "Epoch 2/30\n",
            "1719/1719 [==============================] - 4s 3ms/step - loss: 0.7356 - accuracy: 0.7396 - val_loss: 0.5080 - val_accuracy: 0.8250\n",
            "Epoch 3/30\n",
            "1719/1719 [==============================] - 5s 3ms/step - loss: 0.6274 - accuracy: 0.7794 - val_loss: 0.4615 - val_accuracy: 0.8368\n",
            "Epoch 4/30\n",
            "1719/1719 [==============================] - 5s 3ms/step - loss: 0.5710 - accuracy: 0.8005 - val_loss: 0.4303 - val_accuracy: 0.8478\n",
            "Epoch 5/30\n",
            "1719/1719 [==============================] - 5s 3ms/step - loss: 0.5425 - accuracy: 0.8099 - val_loss: 0.4142 - val_accuracy: 0.8564\n",
            "Epoch 6/30\n",
            "1719/1719 [==============================] - 5s 3ms/step - loss: 0.5215 - accuracy: 0.8177 - val_loss: 0.3995 - val_accuracy: 0.8600\n",
            "Epoch 7/30\n",
            "1719/1719 [==============================] - 5s 3ms/step - loss: 0.5000 - accuracy: 0.8243 - val_loss: 0.3887 - val_accuracy: 0.8602\n",
            "Epoch 8/30\n",
            "1719/1719 [==============================] - 5s 3ms/step - loss: 0.4872 - accuracy: 0.8286 - val_loss: 0.3823 - val_accuracy: 0.8698\n",
            "Epoch 9/30\n",
            "1719/1719 [==============================] - 5s 3ms/step - loss: 0.4758 - accuracy: 0.8350 - val_loss: 0.3744 - val_accuracy: 0.8686\n",
            "Epoch 10/30\n",
            "1719/1719 [==============================] - 5s 3ms/step - loss: 0.4560 - accuracy: 0.8386 - val_loss: 0.3678 - val_accuracy: 0.8700\n",
            "Epoch 11/30\n",
            "1719/1719 [==============================] - 4s 3ms/step - loss: 0.4524 - accuracy: 0.8434 - val_loss: 0.3620 - val_accuracy: 0.8718\n",
            "Epoch 12/30\n",
            "1719/1719 [==============================] - 5s 3ms/step - loss: 0.4468 - accuracy: 0.8428 - val_loss: 0.3588 - val_accuracy: 0.8748\n",
            "Epoch 13/30\n",
            "1719/1719 [==============================] - 5s 3ms/step - loss: 0.4345 - accuracy: 0.8473 - val_loss: 0.3539 - val_accuracy: 0.8742\n",
            "Epoch 14/30\n",
            "1719/1719 [==============================] - 5s 3ms/step - loss: 0.4254 - accuracy: 0.8487 - val_loss: 0.3462 - val_accuracy: 0.8778\n",
            "Epoch 15/30\n",
            "1719/1719 [==============================] - 5s 3ms/step - loss: 0.4231 - accuracy: 0.8518 - val_loss: 0.3501 - val_accuracy: 0.8734\n",
            "Epoch 16/30\n",
            "1719/1719 [==============================] - 5s 3ms/step - loss: 0.4185 - accuracy: 0.8540 - val_loss: 0.3404 - val_accuracy: 0.8794\n",
            "Epoch 17/30\n",
            "1719/1719 [==============================] - 5s 3ms/step - loss: 0.3989 - accuracy: 0.8593 - val_loss: 0.3400 - val_accuracy: 0.8788\n",
            "Epoch 18/30\n",
            "1719/1719 [==============================] - 5s 3ms/step - loss: 0.4032 - accuracy: 0.8601 - val_loss: 0.3381 - val_accuracy: 0.8830\n",
            "Epoch 19/30\n",
            "1719/1719 [==============================] - 5s 3ms/step - loss: 0.3987 - accuracy: 0.8583 - val_loss: 0.3389 - val_accuracy: 0.8786\n",
            "Epoch 20/30\n",
            "1719/1719 [==============================] - 5s 3ms/step - loss: 0.3968 - accuracy: 0.8584 - val_loss: 0.3353 - val_accuracy: 0.8826\n",
            "Epoch 21/30\n",
            "1719/1719 [==============================] - 5s 3ms/step - loss: 0.3897 - accuracy: 0.8633 - val_loss: 0.3304 - val_accuracy: 0.8822\n",
            "Epoch 22/30\n",
            "1719/1719 [==============================] - 5s 3ms/step - loss: 0.3843 - accuracy: 0.8645 - val_loss: 0.3295 - val_accuracy: 0.8834\n",
            "Epoch 23/30\n",
            "1719/1719 [==============================] - 5s 3ms/step - loss: 0.3814 - accuracy: 0.8680 - val_loss: 0.3260 - val_accuracy: 0.8846\n",
            "Epoch 24/30\n",
            "1719/1719 [==============================] - 5s 3ms/step - loss: 0.3714 - accuracy: 0.8701 - val_loss: 0.3242 - val_accuracy: 0.8862\n",
            "Epoch 25/30\n",
            "1719/1719 [==============================] - 5s 3ms/step - loss: 0.3692 - accuracy: 0.8683 - val_loss: 0.3228 - val_accuracy: 0.8852\n",
            "Epoch 26/30\n",
            "1719/1719 [==============================] - 5s 3ms/step - loss: 0.3602 - accuracy: 0.8722 - val_loss: 0.3221 - val_accuracy: 0.8858\n",
            "Epoch 27/30\n",
            "1719/1719 [==============================] - 5s 3ms/step - loss: 0.3671 - accuracy: 0.8695 - val_loss: 0.3177 - val_accuracy: 0.8832\n",
            "Epoch 28/30\n",
            "1719/1719 [==============================] - 5s 3ms/step - loss: 0.3598 - accuracy: 0.8734 - val_loss: 0.3165 - val_accuracy: 0.8842\n",
            "Epoch 29/30\n",
            "1719/1719 [==============================] - 5s 3ms/step - loss: 0.3615 - accuracy: 0.8705 - val_loss: 0.3160 - val_accuracy: 0.8864\n",
            "Epoch 30/30\n",
            "1719/1719 [==============================] - 5s 3ms/step - loss: 0.3512 - accuracy: 0.8749 - val_loss: 0.3172 - val_accuracy: 0.8864\n"
          ],
          "name": "stdout"
        },
        {
          "output_type": "display_data",
          "data": {
            "image/png": "[encoded data removed]",
            "text/plain": [
              "<Figure size 576x360 with 1 Axes>"
            ]
          },
          "metadata": {
            "tags": [],
            "needs_background": "light"
          }
        },
        {
          "output_type": "stream",
          "text": [
            "313/313 [==============================] - 0s 1ms/step - loss: 0.3541 - accuracy: 0.8743\n"
          ],
          "name": "stdout"
        }
      ]
    }
  ]
}